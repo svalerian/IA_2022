{
 "cells": [
  {
   "cell_type": "code",
   "execution_count": 1,
   "metadata": {},
   "outputs": [
    {
     "name": "stdout",
     "output_type": "stream",
     "text": [
      "<Response [200]>\n"
     ]
    }
   ],
   "source": [
    "import matplotlib.pyplot as plt\n",
    "import csv\n",
    "import requests\n",
    "from datetime import date\n",
    "\n",
    "url = \"http://www.mambiente.munimadrid.es/opendata/horario.txt\"\n",
    "resp = requests.get(url)\n",
    "print (resp)"
   ]
  },
  {
   "cell_type": "code",
   "execution_count": 2,
   "metadata": {},
   "outputs": [],
   "source": [
    "# Descargo el fichero leído de la url y lo guardo en un directorio local.\n",
    "\n",
    "path = '../../data/Cap 2/'\n",
    "\n",
    "with open (path + 'horario_' + str(date.today()) + '.txt', 'wb') as output:\n",
    "    output.write(resp.content)\n",
    "    \n",
    "    \n",
    "#with open ('horario_2022-03-15.txt', 'wb') as output:\n",
    "#    output.write(resp.content)"
   ]
  },
  {
   "cell_type": "code",
   "execution_count": 3,
   "metadata": {},
   "outputs": [
    {
     "data": {
      "image/png": "[encoded data removed]",
      "text/plain": [
       "<Figure size 432x288 with 1 Axes>"
      ]
     },
     "metadata": {
      "needs_background": "light"
     },
     "output_type": "display_data"
    }
   ],
   "source": [
    "import requests\n",
    "import csv\n",
    "import matplotlib.pyplot as plt\n",
    "\n",
    "# Leo el fichero desde el directorio local y voy \n",
    "path = '../../data/Cap 2/'\n",
    "with open (path + 'horario_' + str(date.today()) + '.txt') as csvfile:\n",
    "#with open ('../../data/Cap 2/horario_2022-03-15.txt') as csvfile:\n",
    "    readCSV = csv.reader(csvfile, delimiter = ',')\n",
    "    for row in readCSV:\n",
    "        ## row[0] + row[1] + row[2] en el fichero marcan la estación de medición, en nuestro caso '28079008' es Plaza de España\n",
    "        ## row[3] corresponde con el índice de Óxido de nitrógeno.\n",
    "        if (row[0] + row[1] + row[2]) == '28079008' and row[3] =='12':\n",
    "            plt.title (\"Óxido de nitrógeno: \" + row[8] + \"/\" + row[7] + \"/\" + row[6])\n",
    "            hora = 0\n",
    "            desp = 9\n",
    "            vs = []\n",
    "            horas = []\n",
    "            \n",
    "            while hora <= 23:\n",
    "                ## Esto quiere decir que si el valor de lectura en la hora corresponde con un valor válido.\n",
    "                if row[desp+2*hora+1] == 'V':\n",
    "                    vs.append(int(row[desp+2*hora]))\n",
    "                    horas.append(hora)\n",
    "                hora += 1\n",
    "            plt.plot (horas, vs)\n",
    "            plt.show()    "
   ]
  },
  {
   "cell_type": "code",
   "execution_count": null,
   "metadata": {},
   "outputs": [],
   "source": [
    "import requests\n",
    "from contextlib import closing\n",
    "import csv\n",
    "import codecs \n",
    "import matplotlib.pyplot as plt\n",
    "\n",
    "# Este código es igual que el anterior pero evita tener que grabar el fichero en disco y cargarlo completo en memoria.\n",
    "\n",
    "## codecs permite leer los strings directamente en formato utf-8\n",
    "## contextlib, permite leer directamente el valor devuelto por requests.get\n",
    "\n",
    "## Suponed que leo de una url un fichero de texto, vosotros lo que hacéis es generar un fichero csv (o bien xlsx).\n",
    "## Esta url que abro es pública y tiene la información de las estaciones de medición del aire en Madrid.\n",
    "\n",
    "url = \"http://www.mambiente.munimadrid.es/opendata/horario.txt\"\n",
    "with closing (requests.get(url, stream=True)) as r:\n",
    "    reader = csv.reader(codecs.iterdecode(r.iter_lines(),'utf-8'), delimiter = ',')\n",
    "\n",
    "    ## Con la instrucción requests.get leemos y lo cargamos en memoria sin necesidad de \n",
    "    ## guardar el fichero.\n",
    "    \n",
    "    for row in reader:\n",
    "        ## row[0] + row[1] + row[2] en el fichero marcan la estación de medición, en nuestro caso '28079008' es Plaza de España\n",
    "        ## row[3] corresponde con el índice de Óxido de nigrógeno.\n",
    "        if (row[0] + row[1] + row[2]) == '28079008' and row[3] =='12':\n",
    "            plt.title (\"Óxido de nitrógeno: \" + row[8] + \"/\" + row[7] + \"/\" + row[6])\n",
    "            hora = 0\n",
    "            desp = 9\n",
    "            vs = []\n",
    "            horas = []\n",
    "            \n",
    "            while hora <= 23:\n",
    "                ## Esto quiere decir que si el valor de lectura en la hora corresponde con un valor válido.\n",
    "                if row[desp+2*hora+1] == 'V':\n",
    "                    vs.append(int(row[desp+2*hora]))\n",
    "                    horas.append(hora)\n",
    "                hora += 1\n",
    "#            print(horas, vs)\n",
    "            plt.plot (horas, vs)\n",
    "            plt.show()    "
   ]
  },
  {
   "cell_type": "code",
   "execution_count": null,
   "metadata": {},
   "outputs": [],
   "source": [
    "from bs4 import BeautifulSoup\n",
    "url=\"../../data/Cap 2/misegundapagina.html\"\n",
    "with open(url, \"r\") as f:\n",
    "    page = f.read()\n",
    "\n",
    "soup = BeautifulSoup(page,\"html.parser\")\n",
    "print(soup.prettify())\n",
    "\n",
    "## la variable soup contiene la página en forma de cadena de caracteres, que convertimos en un formato interno estructurado\n",
    "## usando la constructora BeautifulSoup, e indicamos que debe emplear el analizador sintáctico \"parser\".\n",
    "## Si la página es muy compleja, podemos utilizar otro analizador \"html5lib\""
   ]
  },
  {
   "cell_type": "code",
   "execution_count": null,
   "metadata": {},
   "outputs": [],
   "source": [
    "from bs4 import BeautifulSoup\n",
    "url=\"../../data/Cap 2/misegundapagina.html\"\n",
    "with open(url, \"r\") as f:\n",
    "    page = f.read()\n",
    "\n",
    "soup = BeautifulSoup(page,\"html.parser\")\n",
    "print(soup.prettify())\n"
   ]
  },
  {
   "cell_type": "code",
   "execution_count": null,
   "metadata": {},
   "outputs": [],
   "source": [
    "hijosDoc = list(soup.children)\n",
    "print([type(item) for item in hijosDoc])\n",
    "\n",
    "## El primero bs4.element.Doctype corresponde a la primera línea\n",
    "## El segundo bs4.element.NavigableString corresponde con el carácter \\n (fin de línea)\n",
    "## El tercero bs4.element.Tag corresponde al documento html en sí."
   ]
  },
  {
   "cell_type": "code",
   "execution_count": null,
   "metadata": {},
   "outputs": [],
   "source": [
    "print(hijosDoc)"
   ]
  },
  {
   "cell_type": "code",
   "execution_count": null,
   "metadata": {},
   "outputs": [],
   "source": [
    "html = hijosDoc[2]\n",
    "print(list(html.children))"
   ]
  },
  {
   "cell_type": "code",
   "execution_count": null,
   "metadata": {},
   "outputs": [],
   "source": [
    "## Si nos interesara un elemento en particular, podemos hacerlo de la siguiente forma:\n",
    "body=list(html.children)[3]\n",
    "print(list(body.children))"
   ]
  },
  {
   "cell_type": "code",
   "execution_count": null,
   "metadata": {},
   "outputs": [],
   "source": [
    "divDate = list(body.children)[1]\n",
    "print(divDate.get_text())"
   ]
  },
  {
   "cell_type": "code",
   "execution_count": null,
   "metadata": {},
   "outputs": [],
   "source": [
    "# En nuestro primer Web Scraping hemos ido recorriendo el documento desde la raíz, vamos a ver ahora cómo podemos\n",
    "# recorrer el documento utilizando la biblioteca BeautifulSoup y el método find\n",
    "\n",
    "import requests\n",
    "from bs4 import BeautifulSoup\n",
    "url=\"https://www.boe.es/informacion/hora_oficial.php\"\n",
    "r=requests.get(url)\n",
    "print(r)"
   ]
  },
  {
   "cell_type": "code",
   "execution_count": null,
   "metadata": {},
   "outputs": [],
   "source": [
    "## A continuación buscamos el elemento p con class = centrador \n",
    "\n",
    "from bs4 import BeautifulSoup\n",
    "soup = BeautifulSoup(r.content, \"html.parser\")\n",
    "centrador = soup.find(\"p\", class_=\"centrador\")\n",
    "\n",
    "print(centrador)"
   ]
  },
  {
   "cell_type": "code",
   "execution_count": null,
   "metadata": {},
   "outputs": [],
   "source": [
    "# En nuestro primer Web Scraping hemos ido recorriendo el documento desde la raíz, vamos a ver ahora cómo podemos\n",
    "# recorrer el documento utilizando la biblioteca BeautifulSoup y el método find\n",
    "\n",
    "import requests\n",
    "from bs4 import BeautifulSoup\n",
    "url=\"https://universidadeuropea.com\"\n",
    "r=requests.get(url)\n",
    "print(r)"
   ]
  },
  {
   "cell_type": "code",
   "execution_count": null,
   "metadata": {},
   "outputs": [],
   "source": [
    "from selenium import webdriver\n",
    "from webdriver_manager.chrome import ChromeDriverManager\n",
    "\n",
    "driver = webdriver.Chrome(ChromeDriverManager().install())\n",
    "\n",
    "url = \"https://universidadeuropea.com\"\n",
    "driver.get(url)"
   ]
  },
  {
   "cell_type": "code",
   "execution_count": null,
   "metadata": {},
   "outputs": [],
   "source": [
    "from selenium import webdriver\n",
    "from webdriver_manager.chrome import ChromeDriverManager\n",
    "\n",
    "driver = webdriver.Chrome(ChromeDriverManager().install())\n",
    "\n",
    "url = \"https://www.sage.com/es/\"\n",
    "driver.get(url)"
   ]
  },
  {
   "cell_type": "code",
   "execution_count": null,
   "metadata": {},
   "outputs": [],
   "source": [
    "from selenium import webdriver\n",
    "from webdriver_manager.chrome import ChromeDriverManager\n",
    "\n",
    "driver = webdriver.Chrome(ChromeDriverManager().install())\n",
    "\n",
    "url = \"https://madrid.craigslist.org/\"\n",
    "driver.get(url)\n",
    "\n",
    "driver.find_element_by_xpath(\"\"\"//*[@id=\"sss0\"]/li[19]/a\"\"\").click()\n"
   ]
  },
  {
   "cell_type": "code",
   "execution_count": null,
   "metadata": {},
   "outputs": [],
   "source": [
    "posts = driver.find_elements_by_class_name(\"result-title hdrlnk\")\n",
    "for post in posts:\n",
    "    print(post.text)"
   ]
  },
  {
   "cell_type": "code",
   "execution_count": null,
   "metadata": {},
   "outputs": [],
   "source": []
  }
 ],
 "metadata": {
  "kernelspec": {
   "display_name": "Python 3 (ipykernel)",
   "language": "python",
   "name": "python3"
  },
  "language_info": {
   "codemirror_mode": {
    "name": "ipython",
    "version": 3
   },
   "file_extension": ".py",
   "mimetype": "text/x-python",
   "name": "python",
   "nbconvert_exporter": "python",
   "pygments_lexer": "ipython3",
   "version": "3.10.4"
  }
 },
 "nbformat": 4,
 "nbformat_minor": 2
}
