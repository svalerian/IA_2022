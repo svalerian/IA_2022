{
 "cells": [
  {
   "cell_type": "code",
   "execution_count": 4,
   "id": "5e99264f",
   "metadata": {},
   "outputs": [],
   "source": [
    "import mysql.connector"
   ]
  },
  {
   "cell_type": "code",
   "execution_count": 3,
   "id": "66000e42",
   "metadata": {},
   "outputs": [],
   "source": [
    "con = mysql.connector.connect (user = \"root\", password = \"Real Madrid1\", host = \"127.0.0.1\")"
   ]
  },
  {
   "cell_type": "code",
   "execution_count": 5,
   "id": "478923c2",
   "metadata": {},
   "outputs": [],
   "source": [
    "cursor = con.cursor()\n",
    "cursor.execute(\"CREATE DATABASE bdpython;\")"
   ]
  },
  {
   "cell_type": "code",
   "execution_count": 7,
   "id": "be497029",
   "metadata": {},
   "outputs": [],
   "source": [
    "cursor = con.cursor()\n",
    "cursor.execute(\"USE bdpython;\")"
   ]
  },
  {
   "cell_type": "code",
   "execution_count": 8,
   "id": "cc8df75f",
   "metadata": {},
   "outputs": [],
   "source": [
    "cursor.execute(\"CREATE TABLE example (id INT, data VARCHAR (100));\")"
   ]
  },
  {
   "cell_type": "code",
   "execution_count": 9,
   "id": "4b42c7b6",
   "metadata": {},
   "outputs": [],
   "source": [
    "cursor.execute(\"INSERT INTO example (id, data) VALUES ('9', 'dato')\")\n",
    "con.commit()"
   ]
  },
  {
   "cell_type": "code",
   "execution_count": 10,
   "id": "c615e6e8",
   "metadata": {},
   "outputs": [],
   "source": [
    "cursor = con.cursor()\n",
    "cursor.execute(\"INSERT INTO example (id, data) VALUES ('10', 'dato2323')\")\n",
    "cursor.execute(\"INSERT INTO example (id, data) VALUES ('11', 'dato11')\")\n",
    "cursor.execute(\"INSERT INTO example (id, data) VALUES ('12', 'dato22')\")\n",
    "cursor.execute(\"INSERT INTO example (id, data) VALUES ('14', 'dato33')\")\n",
    "con.commit()"
   ]
  },
  {
   "cell_type": "code",
   "execution_count": null,
   "id": "550321ce",
   "metadata": {},
   "outputs": [],
   "source": []
  }
 ],
 "metadata": {
  "kernelspec": {
   "display_name": "Python 3 (ipykernel)",
   "language": "python",
   "name": "python3"
  },
  "language_info": {
   "codemirror_mode": {
    "name": "ipython",
    "version": 3
   },
   "file_extension": ".py",
   "mimetype": "text/x-python",
   "name": "python",
   "nbconvert_exporter": "python",
   "pygments_lexer": "ipython3",
   "version": "3.10.4"
  }
 },
 "nbformat": 4,
 "nbformat_minor": 5
}
