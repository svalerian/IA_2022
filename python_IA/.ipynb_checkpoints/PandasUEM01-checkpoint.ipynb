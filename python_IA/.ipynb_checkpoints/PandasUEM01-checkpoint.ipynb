{
 "cells": [
  {
   "cell_type": "markdown",
   "metadata": {},
   "source": [
    "# Utilización de la librería Pandas"
   ]
  },
  {
   "cell_type": "code",
   "execution_count": null,
   "metadata": {},
   "outputs": [],
   "source": [
    "import pandas as pd"
   ]
  },
  {
   "cell_type": "code",
   "execution_count": null,
   "metadata": {},
   "outputs": [],
   "source": [
    "df = pd.read_csv(\"../data_IA/base_datos_2008.csv\", nrows = 100000)"
   ]
  },
  {
   "cell_type": "raw",
   "metadata": {},
   "source": [
    "Year - year of the flight (stored as factor).\n",
    "Month - month of the flight (stored as factor).\n",
    "DayOfMonth - day of the month (1 to 31) (stored as integer).\n",
    "DayOfWeek - day of the week (stored as factor).\n",
    "DepTime - actual departure time (stored as float).\n",
    "CRSDepTime - scheduled departure time (stored as float).\n",
    "ArrTime - actual arrival time (stored as float).\n",
    "CRSArrTime - scheduled arrival time (stored as float).\n",
    "UniqueCarrier - carrier ID (stored as factor).\n",
    "FlightNum - flight number (stored as factor).\n",
    "TailNum - plane's tail number (stored as factor).\n",
    "ActualElapsedTime - actual elapsed time of the flight, in minutes (stored as integer).\n",
    "CRSElapsedTime - scheduled elapsed time of the flight, in minutes (stored as integer).\n",
    "AirTime - airborne time for the flight, in minutes (stored as integer).\n",
    "ArrDelay - arrival delay, in minutes (stored as integer).\n",
    "DepDelay - departure delay, in minutes (stored as integer).\n",
    "Origin - originating airport (stored as factor).\n",
    "Dest - destination airport (stored as factor).\n",
    "Distance - flight distance (stored as integer).\n",
    "TaxiIn - taxi time from wheels down to arrival at the gate, in minutes (stored as integer).\n",
    "TaxiOut - taxi time from departure from the gate to wheels up, in minutes (stored as integer).\n",
    "Cancelled - cancellation status (stored as logical).\n",
    "CancellationCode - cancellation code, if applicable (stored as factor).\n",
    "Diverted - diversion status (stored as logical).\n",
    "CarrierDelay - delay, in minutes, attributable to the carrier (stored integer).\n",
    "WeatherDelay - delay, in minutes, attributable to weather factors (stored as integer).\n",
    "NASDelay - delay, in minutes, attributable to the National Aviation System (stored as integer).\n",
    "SecurityDelay - delay, in minutes, attributable to security factors (stored as integer).\n",
    "LateAircraftDelay - delay, in minutes, attributable to late-arriving aircraft (stored as integer)."
   ]
  },
  {
   "cell_type": "raw",
   "metadata": {},
   "source": [
    "Año - año del vuelo (almacenado como factor).\n",
    "Mes - mes del vuelo (almacenado como factor).\n",
    "Día del mes - día del mes (1 a 31) (almacenado como un número entero).\n",
    "DayOfWeek - día de la semana (almacenado como factor).\n",
    "DepTime - hora real de salida (almacenado como flotador).\n",
    "CRSDepTime - hora de salida programada (almacenada como flotación).\n",
    "ArrTime - hora real de llegada (almacenada como flotación).\n",
    "CRSArrTime - hora programada de llegada (almacenada como flotación).\n",
    "UniqueCarrier - identificación del transportista (almacenada como factor).\n",
    "FlightNum - número de vuelo (almacenado como factor).\n",
    "TailNum - número de cola del avión (almacenado como factor).\n",
    "ActualElapsedTime - tiempo real transcurrido del vuelo, en minutos (almacenado como entero).\n",
    "CRSElapsedTime - tiempo programado que ha transcurrido durante el vuelo, en minutos (almacenado como un número entero).\n",
    "AirTime - tiempo de vuelo en el aire, en minutos (almacenado como entero).\n",
    "ArrDelay - retraso en la llegada, en minutos (almacenado como entero).\n",
    "DepDelay - retraso de salida, en minutos (almacenado como entero).\n",
    "Origin - aeropuerto de origen (almacenado como un factor).\n",
    "Destino - aeropuerto de destino (almacenado como factor).\n",
    "Distance - distancia del vuelo (almacenada como un entero).\n",
    "TaxiIn - tiempo desde el aterrizaje hasta la llegada a la puerta de embarque, en minutos (almacenado como entero).\n",
    "TaxiOut - tiempo desde la salida de la puerta de embarque hasta el inicio del vuelo, en minutos (almacenado como entero).\n",
    "Cancelled - estado de la cancelación (almacenado como un número entero).\n",
    "CancellationCode - código de cancelación, si es aplicable (almacenado como un factor).\n",
    "Diverted - estado de desvío (almacenado como lógico).\n",
    "CarrierDelay - retraso, en minutos, atribuible al portador (almacenado como entero).\n",
    "WeatherDelay - retraso, en minutos, atribuible a factores meteorológicos (almacenado como entero).\n",
    "NASDelay - retraso, en minutos, atribuible al Sistema Nacional de Aviación (almacenado como entero).\n",
    "SecurityDelay - retraso, en minutos, atribuible a factores de seguridad (almacenado como entero).\n",
    "LateAircraftDelay - retraso, en minutos, atribuible a la llegada tardía de un avión (almacenado como entero)."
   ]
  },
  {
   "cell_type": "code",
   "execution_count": null,
   "metadata": {
    "scrolled": true
   },
   "outputs": [],
   "source": [
    "# Con head() se muestran las 5 primeras filas de nuestros dataframe.\n",
    "df.head()"
   ]
  },
  {
   "cell_type": "code",
   "execution_count": null,
   "metadata": {},
   "outputs": [],
   "source": [
    "# Si queremos ver más filas, podemos hacer \n",
    "df.head(50)"
   ]
  },
  {
   "cell_type": "code",
   "execution_count": null,
   "metadata": {},
   "outputs": [],
   "source": [
    "df.tail()"
   ]
  },
  {
   "cell_type": "code",
   "execution_count": null,
   "metadata": {
    "scrolled": true
   },
   "outputs": [],
   "source": [
    "# frac = 1 nos permite guardar el 100% de las filas, reordenamos el 100% de la BD.\n",
    "df = df.sample(frac = 1)\n",
    "df.head()"
   ]
  },
  {
   "cell_type": "code",
   "execution_count": null,
   "metadata": {},
   "outputs": [],
   "source": [
    "df.columns"
   ]
  },
  {
   "cell_type": "code",
   "execution_count": null,
   "metadata": {},
   "outputs": [],
   "source": [
    "# Escogemos la columna DepTime\n",
    "df.DepTime"
   ]
  },
  {
   "cell_type": "code",
   "execution_count": null,
   "metadata": {},
   "outputs": [],
   "source": [
    "# Con esta instrucción nos muestra los tipos de variables que tenemos en el dataframe.\n",
    "df.dtypes"
   ]
  },
  {
   "cell_type": "code",
   "execution_count": null,
   "metadata": {},
   "outputs": [],
   "source": [
    "# Otra forma de ver los datos en formato array\n",
    "df.values"
   ]
  },
  {
   "cell_type": "code",
   "execution_count": null,
   "metadata": {},
   "outputs": [],
   "source": [
    "# Podemos definir un segundo dataframe con las primeras 10 filas y lo guardamos en memoria. Nos puede ayudar\n",
    "# a hacer un procesamiento de parte de los datos.\n",
    "df2 = df.head(10)"
   ]
  },
  {
   "cell_type": "code",
   "execution_count": null,
   "metadata": {},
   "outputs": [],
   "source": [
    "# Nos va a mostrar solo 10 filas... \n",
    "df2.head(100)"
   ]
  },
  {
   "cell_type": "markdown",
   "metadata": {},
   "source": [
    "# Filtrado"
   ]
  },
  {
   "cell_type": "code",
   "execution_count": null,
   "metadata": {},
   "outputs": [],
   "source": [
    "# Obtención de información relevante de nuestras filas y columnas de BD\n",
    "df = pd.read_csv(\"../data_IA/base_datos_2008.csv\")"
   ]
  },
  {
   "cell_type": "code",
   "execution_count": null,
   "metadata": {},
   "outputs": [],
   "source": [
    "# Filtrado entendemos la información relevante de nuestra BD. \n",
    "# Si queremos obtener los 5 primeros valores de la columna ArrDelay\n",
    "df[\"ArrDelay\"].head()"
   ]
  },
  {
   "cell_type": "code",
   "execution_count": null,
   "metadata": {},
   "outputs": [],
   "source": [
    "# Podemos usar el intervalo de filas que queramos.\n",
    "df[0:10]"
   ]
  },
  {
   "cell_type": "code",
   "execution_count": null,
   "metadata": {},
   "outputs": [],
   "source": [
    "df[100:1000]"
   ]
  },
  {
   "cell_type": "code",
   "execution_count": null,
   "metadata": {},
   "outputs": [],
   "source": [
    "# Todos los vuelos que se hayan retrasado > 60 minutos\n",
    "df3 = df[df[\"ArrDelay\"] > 60]"
   ]
  },
  {
   "cell_type": "code",
   "execution_count": null,
   "metadata": {},
   "outputs": [],
   "source": [
    "df3.head()"
   ]
  },
  {
   "cell_type": "code",
   "execution_count": null,
   "metadata": {},
   "outputs": [],
   "source": [
    "# Todos los vuelos que han salido de ATL (Atlanta)\n",
    "df[df[\"Origin\"] == \"ATL\"].head()"
   ]
  },
  {
   "cell_type": "code",
   "execution_count": null,
   "metadata": {},
   "outputs": [],
   "source": [
    "# Vamos a filtrar de forma combinada, Origen Atlanta y el retraso > 60 minutos.\n",
    "# & == AND; | == OR\n",
    "df[(df[\"Origin\"] == \"ATL\") & (df[\"ArrDelay\"] > 60)].head(100)"
   ]
  },
  {
   "cell_type": "code",
   "execution_count": null,
   "metadata": {},
   "outputs": [],
   "source": [
    "# Podemos seleccionar todos los vuelos cuyo origen sea Houston y Atlanta.\n",
    "df[df.Origin.isin([\"HOU\", \"ATL\"])].head(100)"
   ]
  },
  {
   "cell_type": "code",
   "execution_count": null,
   "metadata": {},
   "outputs": [],
   "source": [
    "# Todos aquellos casos en los que no tenemos ningún valor en la columna ArrDelay\n",
    "df[pd.isna(df[\"ArrDelay\"])].head()"
   ]
  },
  {
   "cell_type": "code",
   "execution_count": null,
   "metadata": {},
   "outputs": [],
   "source": [
    "# Número de filas en la base de datos que no tienen ningún valor en la columna ArrDelay\n",
    "len(df[pd.isna(df[\"ArrDelay\"])])"
   ]
  },
  {
   "cell_type": "code",
   "execution_count": null,
   "metadata": {},
   "outputs": [],
   "source": [
    "len(df)"
   ]
  },
  {
   "cell_type": "markdown",
   "metadata": {},
   "source": [
    "# Transformación"
   ]
  },
  {
   "cell_type": "code",
   "execution_count": null,
   "metadata": {},
   "outputs": [],
   "source": [
    "df = pd.read_csv(\"../data_IA/base_datos_2008.csv\")"
   ]
  },
  {
   "cell_type": "code",
   "execution_count": null,
   "metadata": {},
   "outputs": [],
   "source": [
    "# Una transformación es un cambio de la estructura de nuestra BD, empezamos creando una columna nueva.\n",
    "# Redondeo de una columna existente, retraso / 60.\n",
    "df[\"HoursDelay\"] = round(df[\"ArrDelay\"] / 60)"
   ]
  },
  {
   "cell_type": "code",
   "execution_count": null,
   "metadata": {},
   "outputs": [],
   "source": [
    "# Para visualizar la transformación... \n",
    "df[\"HoursDelay\"].head()"
   ]
  },
  {
   "cell_type": "code",
   "execution_count": null,
   "metadata": {},
   "outputs": [],
   "source": [
    "df.head()"
   ]
  },
  {
   "cell_type": "code",
   "execution_count": null,
   "metadata": {},
   "outputs": [],
   "source": [
    "# Eliminamos la columna que acabamos de crear\n",
    "del(df[\"HoursDelay\"])"
   ]
  },
  {
   "cell_type": "code",
   "execution_count": null,
   "metadata": {},
   "outputs": [],
   "source": [
    "df.head()"
   ]
  },
  {
   "cell_type": "code",
   "execution_count": null,
   "metadata": {},
   "outputs": [],
   "source": [
    "# Si queremos eliminar varias columnas a la vez, podemos hacerlo de la siguiente forma, axis = 1 indica el eje vertical(columna)\n",
    "df.drop([\"Diverted\", \"Cancelled\", \"Year\"], axis = 1)"
   ]
  },
  {
   "cell_type": "code",
   "execution_count": null,
   "metadata": {},
   "outputs": [],
   "source": [
    "# Year sigue apareciendo, esto ocurre porque no hemos igualado a nuestro df\n",
    "df.head()"
   ]
  },
  {
   "cell_type": "code",
   "execution_count": null,
   "metadata": {},
   "outputs": [],
   "source": [
    "# Si queremos que se borre y se guarde, hay que asignarlo a nuestro dataframe\n",
    "df = df.drop([\"Diverted\", \"Cancelled\", \"Year\"], axis = 1)\n",
    "\n",
    "# también podríamos hacer:\n",
    "# df.drop([\"Diverted\", \"Cancelled\", \"Year\"], axis = 1, inplace = True)"
   ]
  },
  {
   "cell_type": "code",
   "execution_count": null,
   "metadata": {},
   "outputs": [],
   "source": [
    "df.head()"
   ]
  },
  {
   "cell_type": "code",
   "execution_count": null,
   "metadata": {},
   "outputs": [],
   "source": [
    "# Drop también funciona para eliminar filas de nuestra BD\n",
    "df.drop(0)"
   ]
  },
  {
   "cell_type": "code",
   "execution_count": null,
   "metadata": {},
   "outputs": [],
   "source": [
    "# Borrado de las primeras 100.000 filas\n",
    "df.drop(range(0,100000))"
   ]
  },
  {
   "cell_type": "code",
   "execution_count": null,
   "metadata": {},
   "outputs": [],
   "source": [
    "df.head()"
   ]
  },
  {
   "cell_type": "code",
   "execution_count": null,
   "metadata": {},
   "outputs": [],
   "source": [
    "# Creamos dos dataframes con los vuelos cuyo origen es ATL y otro df con los vuelos cuyo origen es HOU\n",
    "dfATL = df[df.Origin == \"ATL\"]\n",
    "dfHOU = df[df.Origin == \"HOU\"]"
   ]
  },
  {
   "cell_type": "code",
   "execution_count": null,
   "metadata": {},
   "outputs": [],
   "source": [
    "# Si queremos añadir ambos dataframes\n",
    "newdf = dfATL.append(dfHOU)"
   ]
  },
  {
   "cell_type": "code",
   "execution_count": null,
   "metadata": {},
   "outputs": [],
   "source": [
    "newdf.Origin"
   ]
  },
  {
   "cell_type": "markdown",
   "metadata": {},
   "source": [
    "# Agrupaciones"
   ]
  },
  {
   "cell_type": "code",
   "execution_count": null,
   "metadata": {},
   "outputs": [],
   "source": [
    "df = pd.read_csv(\"../data_IA/base_datos_2008.csv\")"
   ]
  },
  {
   "cell_type": "code",
   "execution_count": null,
   "metadata": {},
   "outputs": [],
   "source": [
    "# Group by nos permite hacer operaciones matemáticas sencillas agrupando por categorías.\n",
    "# En este caso se hace una agrupación por DayOfWeek, y se visualiza el retraso máximo de cada día de la semana.\n",
    "# Trabajamos con la BD de aerolíneas completa y estudiaremos el retraso de los vuelos al llegar al destino.\n",
    "# DayOfWeek -> Es una agrupación por el día de la semana, y nos da un valor de los retrasos de los vuelos ArrDelay, \n",
    "# proporcionando el valor máximo.\n",
    "df.groupby(by = \"DayOfWeek\") [\"ArrDelay\"].max()"
   ]
  },
  {
   "cell_type": "code",
   "execution_count": null,
   "metadata": {},
   "outputs": [],
   "source": [
    "# Media de retraso para cada día de la semana.\n",
    "df.groupby(by = \"DayOfWeek\") [\"ArrDelay\"].mean()"
   ]
  },
  {
   "cell_type": "code",
   "execution_count": null,
   "metadata": {},
   "outputs": [],
   "source": [
    "# Mínimo valor\n",
    "df.groupby(by = \"DayOfWeek\") [\"ArrDelay\"].min()"
   ]
  },
  {
   "cell_type": "code",
   "execution_count": null,
   "metadata": {},
   "outputs": [],
   "source": [
    "# Número de casos, en fines de semana hay menos vuelos.\n",
    "df.groupby(by = \"DayOfWeek\") [\"ArrDelay\"].count()"
   ]
  },
  {
   "cell_type": "code",
   "execution_count": null,
   "metadata": {},
   "outputs": [],
   "source": [
    "# Resumen estadístico agrupado por día de la semana\n",
    "df.groupby(by = \"DayOfWeek\") [\"ArrDelay\"].describe()"
   ]
  },
  {
   "cell_type": "code",
   "execution_count": null,
   "metadata": {},
   "outputs": [],
   "source": [
    "# Podemos ver el resumen comparado de las dos variables ArrDelay DepDelay, en este tipo de comparaciones hay que asegurarse\n",
    "# que estamos comparando variables del mismo tipo.\n",
    "df.groupby(by = \"DayOfWeek\") [\"ArrDelay\", \"DepDelay\"].mean()"
   ]
  },
  {
   "cell_type": "code",
   "execution_count": null,
   "metadata": {},
   "outputs": [],
   "source": [
    "# Se pueden realizar operaciones con los objetos Group By, con esta operación podemos analizar el rango de valores\n",
    "# para cada día de la semana.\n",
    "df.groupby(by = \"DayOfWeek\") [\"ArrDelay\"].max() - df.groupby(by = \"DayOfWeek\") [\"ArrDelay\"].min()"
   ]
  },
  {
   "cell_type": "code",
   "execution_count": null,
   "metadata": {},
   "outputs": [],
   "source": [
    "# Creamos un nuevo Dataframe de los vuelos cuyo origen es Atlanta y Houston\n",
    "dfATLHOU = df[df.Origin.isin([\"ATL\", \"HOU\"])]"
   ]
  },
  {
   "cell_type": "code",
   "execution_count": null,
   "metadata": {},
   "outputs": [],
   "source": [
    "# Podemos comparar por ciudades y días de la semana los retrasos en la llegada. Esto permite comparar en cuál de las dos\n",
    "# ciudades los vuelos salen más retrasados, comparando por día de la semana.\n",
    "dfATLHOU.groupby(by = [\"DayOfWeek\", \"Origin\"])[\"ArrDelay\"].mean()"
   ]
  },
  {
   "cell_type": "code",
   "execution_count": null,
   "metadata": {},
   "outputs": [],
   "source": [
    "# Aquí podemos ver cómo afecta el retraso por cada día de la semana en ambos aeropuertos.\n",
    "dfATLHOU.groupby(by = [\"Origin\", \"DayOfWeek\"])[\"ArrDelay\"].mean()"
   ]
  },
  {
   "cell_type": "code",
   "execution_count": null,
   "metadata": {},
   "outputs": [],
   "source": [
    "# Los objetos que hemos creado por agrupación, pueden guardarse.\n",
    "mygroupby = dfATLHOU.groupby(by = [\"Origin\", \"DayOfWeek\"])[\"ArrDelay\"]"
   ]
  },
  {
   "cell_type": "code",
   "execution_count": null,
   "metadata": {},
   "outputs": [],
   "source": [
    "#mygroupby.max()\n",
    "#mygroupby.min()\n",
    "#mygroupby.mean()\n",
    "mygroupby.describe()"
   ]
  },
  {
   "cell_type": "markdown",
   "metadata": {},
   "source": [
    "# Tratar datos duplicados y perdidos"
   ]
  },
  {
   "cell_type": "code",
   "execution_count": null,
   "metadata": {},
   "outputs": [],
   "source": [
    "import pandas as pd\n",
    "df = pd.read_csv(\"../data_IA/base_datos_2008.csv\")\n",
    "\n",
    "dfduplicate = df.append(df)"
   ]
  },
  {
   "cell_type": "code",
   "execution_count": null,
   "metadata": {},
   "outputs": [],
   "source": [
    "dfduplicate = dfduplicate.sample(frac = 1)"
   ]
  },
  {
   "cell_type": "code",
   "execution_count": null,
   "metadata": {},
   "outputs": [],
   "source": [
    "dfclean = dfduplicate.drop_duplicates()"
   ]
  },
  {
   "cell_type": "code",
   "execution_count": null,
   "metadata": {},
   "outputs": [],
   "source": [
    "len(dfclean) == len(df)"
   ]
  },
  {
   "cell_type": "code",
   "execution_count": null,
   "metadata": {},
   "outputs": [],
   "source": [
    "# Tenemos 4 filas menos en relación al dataframe original, pensábamos que el df original no tenía filas repetidas \n",
    "# y parece ser que sí.\n",
    "len(dfclean)"
   ]
  },
  {
   "cell_type": "code",
   "execution_count": null,
   "metadata": {},
   "outputs": [],
   "source": [
    "len(df) - len(dfclean)"
   ]
  },
  {
   "cell_type": "code",
   "execution_count": null,
   "metadata": {},
   "outputs": [],
   "source": [
    "# Aprovechamos y realizaremos un borrado de las filas duplicadas quedándonos con el subset DayofMonth (31 días)\n",
    "dfclean.drop_duplicates(subset = \"DayofMonth\")"
   ]
  },
  {
   "cell_type": "code",
   "execution_count": null,
   "metadata": {},
   "outputs": [],
   "source": [
    "# Vamos a ver cómo gestionamos los datos faltantes, queremos 25 entradas de las 29 totales con información relevante\n",
    "df.dropna(thresh = 25)"
   ]
  },
  {
   "cell_type": "code",
   "execution_count": null,
   "metadata": {},
   "outputs": [],
   "source": [
    "# Si el df va creciendo aplicamos una función para que nos quedemos con las filas que tienen al menos n-2 datos\n",
    "df.dropna(thresh=len(df.columns)-2)"
   ]
  },
  {
   "cell_type": "code",
   "execution_count": null,
   "metadata": {},
   "outputs": [],
   "source": [
    "# Si nos interesa filtrar por una columna en concreto, podemos usar la misma función con subset a la columna que queremos no \n",
    "# tenga datos NaN (vacío)\n",
    "df.dropna(subset = [\"CancellationCode\"])"
   ]
  },
  {
   "cell_type": "markdown",
   "metadata": {},
   "source": [
    "# Librería Numpy"
   ]
  },
  {
   "cell_type": "code",
   "execution_count": null,
   "metadata": {},
   "outputs": [],
   "source": [
    "# Numpy es un paquete orientado al análisis matemático y científico de datos, \n",
    "# viene incorporado dentro de Anaconda, no hay que instalarlo.\n",
    "import numpy as np"
   ]
  },
  {
   "cell_type": "code",
   "execution_count": null,
   "metadata": {},
   "outputs": [],
   "source": [
    "# Creamos un numpy array\n",
    "valoraciones = np.array([[8,7,8,5], [2,6,8,1], [8,8,9,5]])\n",
    "valoraciones"
   ]
  },
  {
   "cell_type": "markdown",
   "metadata": {},
   "source": [
    "Podemos pensar que cada una de las filas corresponden a tres clientes que han valorado cuatro productos, cada una de las \n",
    "columnas"
   ]
  },
  {
   "cell_type": "code",
   "execution_count": null,
   "metadata": {},
   "outputs": [],
   "source": [
    "# ¿Cómo podemos acceder a la información? La primera dimensión en el ejemplo [0] son las filas, la segunda las columnas [1]\n",
    "valoraciones[0][1]"
   ]
  },
  {
   "cell_type": "code",
   "execution_count": null,
   "metadata": {},
   "outputs": [],
   "source": [
    "# Una alternativa es\n",
    "valoraciones[0,1]"
   ]
  },
  {
   "cell_type": "code",
   "execution_count": null,
   "metadata": {},
   "outputs": [],
   "source": [
    "# Si añadimos nuevas dimensiones...\n",
    "valoraciones2 = np.array([[[8,7,8,5], [2,5,4,2]], [[2,6,8,4], [8,9,7,4]], [[8,8,9,3], [10,9,10,8]]])         "
   ]
  },
  {
   "cell_type": "code",
   "execution_count": null,
   "metadata": {},
   "outputs": [],
   "source": [
    "# En este caso tenemos de igual forma tres clientes que han podido emitir sus valoraciones en años distintos.\n",
    "valoraciones2"
   ]
  },
  {
   "cell_type": "code",
   "execution_count": null,
   "metadata": {},
   "outputs": [],
   "source": [
    "# Podemos acceder a los elementos de la siguiente forma. ¿A qué elemento nos estamos refiriendo?\n",
    "valoraciones2[0,0,2]"
   ]
  },
  {
   "cell_type": "code",
   "execution_count": null,
   "metadata": {},
   "outputs": [],
   "source": [
    "# También podemos inicializar un array de las dimensiones del anterior, por ejemplo:\n",
    "np.zeros((3,2,4))"
   ]
  },
  {
   "cell_type": "code",
   "execution_count": null,
   "metadata": {},
   "outputs": [],
   "source": [
    "# Podemos hacer operaciones entre arrays de mismo tamaño, con np.ones generamos un objeto con las dimensiones llenas de 1's.\n",
    "valoraciones2 + np.ones((3,2,4))"
   ]
  },
  {
   "cell_type": "code",
   "execution_count": null,
   "metadata": {},
   "outputs": [],
   "source": [
    "valoraciones2"
   ]
  },
  {
   "cell_type": "code",
   "execution_count": null,
   "metadata": {},
   "outputs": [],
   "source": [
    "# A los arrays les podemos aplicar muchas funciones, algunos ejemplos:\n",
    "# En este caso nos devuelve la media de todos los valores del array original (3,2,4)\n",
    "np.mean(valoraciones2)"
   ]
  },
  {
   "cell_type": "code",
   "execution_count": null,
   "metadata": {},
   "outputs": [],
   "source": [
    "# Podemos además indicar en qué eje queremos que nos calcule la media, por ejemplo:\n",
    "np.mean(valoraciones2, axis = 0)"
   ]
  },
  {
   "cell_type": "markdown",
   "metadata": {},
   "source": [
    "El primer elemento devuelto es la media entre 8, 2, 8; 6.66 es la media entre 2, 8 y 10... y así sucesivamente."
   ]
  },
  {
   "cell_type": "code",
   "execution_count": null,
   "metadata": {},
   "outputs": [],
   "source": [
    "# Podemos cambiar el eje...\n",
    "np.mean(valoraciones2, axis = 1)"
   ]
  },
  {
   "cell_type": "markdown",
   "metadata": {},
   "source": [
    "De esta forma el primer 5 es la media entre 8 y 2; El siguiente 5 entre 2 y 8; y el 9 entre 8 y 10."
   ]
  },
  {
   "cell_type": "code",
   "execution_count": null,
   "metadata": {},
   "outputs": [],
   "source": [
    "# Si lo hacemos con el último eje, obtenemos:\n",
    "np.mean(valoraciones2, axis = 2)"
   ]
  },
  {
   "cell_type": "markdown",
   "metadata": {},
   "source": [
    "El primer 7 es la media entre todos los valores de la primera fila, el 3.25 es la media entre los valores de la segunda, y\n",
    "así sucesivamente."
   ]
  },
  {
   "cell_type": "code",
   "execution_count": null,
   "metadata": {},
   "outputs": [],
   "source": [
    "# Alguna función interesante adicional, nos permite convertir la lista inicial a las dimensiones que queramos, 3 agrupaciones\n",
    "# de filas, dos filas por agrupación y dos columnas. Importante es que las dimensiones que queremos, multiplicadas tienen\n",
    "# que ser igual al tamaño de los elementos de la lista que queremos particionar.\n",
    "np.reshape([1,2,3,4,5,6,7,8,9,10,11,12], (3,2,2))"
   ]
  },
  {
   "cell_type": "markdown",
   "metadata": {},
   "source": [
    "# Correlaciones entre variables"
   ]
  },
  {
   "cell_type": "code",
   "execution_count": 1,
   "metadata": {},
   "outputs": [],
   "source": [
    "# Correlaciones entre dos variables.\n",
    "# Una correlación es una relación lineal entre dos variables cuantitativas se representa como el cociente entre la covarianza\n",
    "# de dos variables y el producto entre sus desviaciones estándar. Puede tomar valores entre -1 y 1, \n",
    "# cuanto más cerca de estos extremos se encuentre la relación estamos hablando de correlaciones fuertes,\n",
    "# también tenemos dependiendo de esa distancia moderadas, débil y muy débil.\n",
    "import pandas as pd\n",
    "import numpy as np\n",
    "\n",
    "df = pd.read_csv(\"../data_IA/base_datos_2008.csv\", nrows = 100000)"
   ]
  },
  {
   "cell_type": "raw",
   "metadata": {},
   "source": [
    "Valor de r\tFuerza de relación\n",
    "-1,0 A -0,5 o 1,0 a 0,5\tFuerte\n",
    "-0,5 A -0,3 o 0,3 a 0,5\tModerada\n",
    "-0,3 A -0,1 o 0,1 a 0,3\tDébil\n",
    "-0,1 A 0,1\tNinguna o muy débil"
   ]
  },
  {
   "cell_type": "markdown",
   "metadata": {},
   "source": [
    "Para más información, podéis consultar la página:\n",
    "https://www.cienciadedatos.net/documentos/24_correlacion_y_regresion_lineal  "
   ]
  },
  {
   "cell_type": "code",
   "execution_count": 2,
   "metadata": {},
   "outputs": [
    {
     "data": {
      "text/plain": [
       "array([[nan, nan],\n",
       "       [nan, nan]])"
      ]
     },
     "execution_count": 2,
     "metadata": {},
     "output_type": "execute_result"
    }
   ],
   "source": [
    "np.corrcoef(df[\"ArrDelay\"], df[\"DepDelay\"])"
   ]
  },
  {
   "cell_type": "code",
   "execution_count": 3,
   "metadata": {},
   "outputs": [],
   "source": [
    "# No existe correlación porque existen valores perdidos, vamos a quitarlos utilizando Pandas, el coeficiente de correlación\n",
    "# no admite valores faltantes. Tenemos que imputarlos o quitarlos, en este caso los quitamos.\n",
    "df.dropna(inplace = True, subset = [\"ArrDelay\", \"DepDelay\"])"
   ]
  },
  {
   "cell_type": "code",
   "execution_count": 4,
   "metadata": {},
   "outputs": [
    {
     "data": {
      "text/plain": [
       "array([[1.       , 0.9422735],\n",
       "       [0.9422735, 1.       ]])"
      ]
     },
     "execution_count": 4,
     "metadata": {},
     "output_type": "execute_result"
    }
   ],
   "source": [
    "# Ahora vemos una matriz de correlación entre ambas variables. Estas dos variables están muy relacionadas (0.9349), \n",
    "# retraso del avión al salir y al llegar. \n",
    "np.corrcoef(df[\"ArrDelay\"], df[\"DepDelay\"])"
   ]
  },
  {
   "cell_type": "code",
   "execution_count": 5,
   "metadata": {},
   "outputs": [
    {
     "data": {
      "text/plain": [
       "array([[1.        , 0.9422735 , 0.23241529],\n",
       "       [0.9422735 , 1.        , 0.25725889],\n",
       "       [0.23241529, 0.25725889, 1.        ]])"
      ]
     },
     "execution_count": 5,
     "metadata": {},
     "output_type": "execute_result"
    }
   ],
   "source": [
    "# Añadimos una columna más y vemos que para este caso la correlación entre las dos primeras variables y la tercera es baja.\n",
    "np.corrcoef([df[\"ArrDelay\"], df[\"DepDelay\"], df[\"DepTime\"]])"
   ]
  },
  {
   "cell_type": "code",
   "execution_count": 6,
   "metadata": {},
   "outputs": [],
   "source": [
    "df.drop(inplace = True, columns = [\"Year\", \"Cancelled\", \"Diverted\"])"
   ]
  },
  {
   "cell_type": "code",
   "execution_count": 7,
   "metadata": {},
   "outputs": [
    {
     "data": {
      "text/html": [
       "<div>\n",
       "<style scoped>\n",
       "    .dataframe tbody tr th:only-of-type {\n",
       "        vertical-align: middle;\n",
       "    }\n",
       "\n",
       "    .dataframe tbody tr th {\n",
       "        vertical-align: top;\n",
       "    }\n",
       "\n",
       "    .dataframe thead th {\n",
       "        text-align: right;\n",
       "    }\n",
       "</style>\n",
       "<table border=\"1\" class=\"dataframe\">\n",
       "  <thead>\n",
       "    <tr style=\"text-align: right;\">\n",
       "      <th></th>\n",
       "      <th>Month</th>\n",
       "      <th>DayofMonth</th>\n",
       "      <th>DayOfWeek</th>\n",
       "      <th>DepTime</th>\n",
       "      <th>CRSDepTime</th>\n",
       "      <th>ArrTime</th>\n",
       "      <th>CRSArrTime</th>\n",
       "      <th>FlightNum</th>\n",
       "      <th>ActualElapsedTime</th>\n",
       "      <th>CRSElapsedTime</th>\n",
       "      <th>...</th>\n",
       "      <th>ArrDelay</th>\n",
       "      <th>DepDelay</th>\n",
       "      <th>Distance</th>\n",
       "      <th>TaxiIn</th>\n",
       "      <th>TaxiOut</th>\n",
       "      <th>CarrierDelay</th>\n",
       "      <th>WeatherDelay</th>\n",
       "      <th>NASDelay</th>\n",
       "      <th>SecurityDelay</th>\n",
       "      <th>LateAircraftDelay</th>\n",
       "    </tr>\n",
       "  </thead>\n",
       "  <tbody>\n",
       "    <tr>\n",
       "      <th>Month</th>\n",
       "      <td>NaN</td>\n",
       "      <td>NaN</td>\n",
       "      <td>NaN</td>\n",
       "      <td>NaN</td>\n",
       "      <td>NaN</td>\n",
       "      <td>NaN</td>\n",
       "      <td>NaN</td>\n",
       "      <td>NaN</td>\n",
       "      <td>NaN</td>\n",
       "      <td>NaN</td>\n",
       "      <td>...</td>\n",
       "      <td>NaN</td>\n",
       "      <td>NaN</td>\n",
       "      <td>NaN</td>\n",
       "      <td>NaN</td>\n",
       "      <td>NaN</td>\n",
       "      <td>NaN</td>\n",
       "      <td>NaN</td>\n",
       "      <td>NaN</td>\n",
       "      <td>NaN</td>\n",
       "      <td>NaN</td>\n",
       "    </tr>\n",
       "    <tr>\n",
       "      <th>DayofMonth</th>\n",
       "      <td>NaN</td>\n",
       "      <td>1.000000</td>\n",
       "      <td>-0.118851</td>\n",
       "      <td>-0.001168</td>\n",
       "      <td>0.003749</td>\n",
       "      <td>-0.004445</td>\n",
       "      <td>-0.001941</td>\n",
       "      <td>0.072588</td>\n",
       "      <td>0.004568</td>\n",
       "      <td>-0.006886</td>\n",
       "      <td>...</td>\n",
       "      <td>0.027501</td>\n",
       "      <td>0.007231</td>\n",
       "      <td>-0.006686</td>\n",
       "      <td>-0.012618</td>\n",
       "      <td>0.040429</td>\n",
       "      <td>-0.061650</td>\n",
       "      <td>0.055178</td>\n",
       "      <td>0.111780</td>\n",
       "      <td>-0.012357</td>\n",
       "      <td>0.079725</td>\n",
       "    </tr>\n",
       "    <tr>\n",
       "      <th>DayOfWeek</th>\n",
       "      <td>NaN</td>\n",
       "      <td>-0.118851</td>\n",
       "      <td>1.000000</td>\n",
       "      <td>0.031111</td>\n",
       "      <td>0.024400</td>\n",
       "      <td>0.021947</td>\n",
       "      <td>0.027785</td>\n",
       "      <td>-0.039560</td>\n",
       "      <td>0.015945</td>\n",
       "      <td>0.017744</td>\n",
       "      <td>...</td>\n",
       "      <td>0.085299</td>\n",
       "      <td>0.098220</td>\n",
       "      <td>0.017525</td>\n",
       "      <td>0.034878</td>\n",
       "      <td>0.000337</td>\n",
       "      <td>0.031015</td>\n",
       "      <td>0.008769</td>\n",
       "      <td>0.001660</td>\n",
       "      <td>0.024726</td>\n",
       "      <td>0.079787</td>\n",
       "    </tr>\n",
       "    <tr>\n",
       "      <th>DepTime</th>\n",
       "      <td>NaN</td>\n",
       "      <td>-0.001168</td>\n",
       "      <td>0.031111</td>\n",
       "      <td>1.000000</td>\n",
       "      <td>0.985504</td>\n",
       "      <td>0.796903</td>\n",
       "      <td>0.852191</td>\n",
       "      <td>0.023409</td>\n",
       "      <td>-0.069542</td>\n",
       "      <td>-0.065937</td>\n",
       "      <td>...</td>\n",
       "      <td>0.232415</td>\n",
       "      <td>0.257259</td>\n",
       "      <td>-0.056849</td>\n",
       "      <td>0.029098</td>\n",
       "      <td>-0.068401</td>\n",
       "      <td>0.029925</td>\n",
       "      <td>-0.018628</td>\n",
       "      <td>-0.128269</td>\n",
       "      <td>-0.022763</td>\n",
       "      <td>0.229938</td>\n",
       "    </tr>\n",
       "    <tr>\n",
       "      <th>CRSDepTime</th>\n",
       "      <td>NaN</td>\n",
       "      <td>0.003749</td>\n",
       "      <td>0.024400</td>\n",
       "      <td>0.985504</td>\n",
       "      <td>1.000000</td>\n",
       "      <td>0.795609</td>\n",
       "      <td>0.862782</td>\n",
       "      <td>0.023789</td>\n",
       "      <td>-0.074644</td>\n",
       "      <td>-0.070060</td>\n",
       "      <td>...</td>\n",
       "      <td>0.180684</td>\n",
       "      <td>0.202200</td>\n",
       "      <td>-0.061167</td>\n",
       "      <td>0.024048</td>\n",
       "      <td>-0.075218</td>\n",
       "      <td>-0.015536</td>\n",
       "      <td>-0.057462</td>\n",
       "      <td>-0.149643</td>\n",
       "      <td>-0.025722</td>\n",
       "      <td>0.227241</td>\n",
       "    </tr>\n",
       "    <tr>\n",
       "      <th>ArrTime</th>\n",
       "      <td>NaN</td>\n",
       "      <td>-0.004445</td>\n",
       "      <td>0.021947</td>\n",
       "      <td>0.796903</td>\n",
       "      <td>0.795609</td>\n",
       "      <td>1.000000</td>\n",
       "      <td>0.887002</td>\n",
       "      <td>0.011193</td>\n",
       "      <td>0.013706</td>\n",
       "      <td>0.016936</td>\n",
       "      <td>...</td>\n",
       "      <td>0.076353</td>\n",
       "      <td>0.091164</td>\n",
       "      <td>0.024675</td>\n",
       "      <td>0.044000</td>\n",
       "      <td>-0.062210</td>\n",
       "      <td>-0.027949</td>\n",
       "      <td>-0.033068</td>\n",
       "      <td>-0.067516</td>\n",
       "      <td>-0.005993</td>\n",
       "      <td>-0.050018</td>\n",
       "    </tr>\n",
       "    <tr>\n",
       "      <th>CRSArrTime</th>\n",
       "      <td>NaN</td>\n",
       "      <td>-0.001941</td>\n",
       "      <td>0.027785</td>\n",
       "      <td>0.852191</td>\n",
       "      <td>0.862782</td>\n",
       "      <td>0.887002</td>\n",
       "      <td>1.000000</td>\n",
       "      <td>0.014385</td>\n",
       "      <td>0.025615</td>\n",
       "      <td>0.032250</td>\n",
       "      <td>...</td>\n",
       "      <td>0.142571</td>\n",
       "      <td>0.171454</td>\n",
       "      <td>0.042641</td>\n",
       "      <td>0.042752</td>\n",
       "      <td>-0.061937</td>\n",
       "      <td>-0.004882</td>\n",
       "      <td>-0.049083</td>\n",
       "      <td>-0.119460</td>\n",
       "      <td>-0.016722</td>\n",
       "      <td>0.171666</td>\n",
       "    </tr>\n",
       "    <tr>\n",
       "      <th>FlightNum</th>\n",
       "      <td>NaN</td>\n",
       "      <td>0.072588</td>\n",
       "      <td>-0.039560</td>\n",
       "      <td>0.023409</td>\n",
       "      <td>0.023789</td>\n",
       "      <td>0.011193</td>\n",
       "      <td>0.014385</td>\n",
       "      <td>1.000000</td>\n",
       "      <td>0.024159</td>\n",
       "      <td>0.025279</td>\n",
       "      <td>...</td>\n",
       "      <td>-0.001017</td>\n",
       "      <td>0.002810</td>\n",
       "      <td>0.017180</td>\n",
       "      <td>0.007277</td>\n",
       "      <td>0.023976</td>\n",
       "      <td>-0.020801</td>\n",
       "      <td>0.004887</td>\n",
       "      <td>0.002978</td>\n",
       "      <td>-0.007659</td>\n",
       "      <td>-0.002957</td>\n",
       "    </tr>\n",
       "    <tr>\n",
       "      <th>ActualElapsedTime</th>\n",
       "      <td>NaN</td>\n",
       "      <td>0.004568</td>\n",
       "      <td>0.015945</td>\n",
       "      <td>-0.069542</td>\n",
       "      <td>-0.074644</td>\n",
       "      <td>0.013706</td>\n",
       "      <td>0.025615</td>\n",
       "      <td>0.024159</td>\n",
       "      <td>1.000000</td>\n",
       "      <td>0.983501</td>\n",
       "      <td>...</td>\n",
       "      <td>-0.013101</td>\n",
       "      <td>0.020641</td>\n",
       "      <td>0.963610</td>\n",
       "      <td>0.183375</td>\n",
       "      <td>0.167747</td>\n",
       "      <td>0.021032</td>\n",
       "      <td>0.039746</td>\n",
       "      <td>0.208190</td>\n",
       "      <td>0.014323</td>\n",
       "      <td>-0.076740</td>\n",
       "    </tr>\n",
       "    <tr>\n",
       "      <th>CRSElapsedTime</th>\n",
       "      <td>NaN</td>\n",
       "      <td>-0.006886</td>\n",
       "      <td>0.017744</td>\n",
       "      <td>-0.065937</td>\n",
       "      <td>-0.070060</td>\n",
       "      <td>0.016936</td>\n",
       "      <td>0.032250</td>\n",
       "      <td>0.025279</td>\n",
       "      <td>0.983501</td>\n",
       "      <td>1.000000</td>\n",
       "      <td>...</td>\n",
       "      <td>-0.088450</td>\n",
       "      <td>0.003833</td>\n",
       "      <td>0.979863</td>\n",
       "      <td>0.134687</td>\n",
       "      <td>0.070776</td>\n",
       "      <td>0.047632</td>\n",
       "      <td>0.016538</td>\n",
       "      <td>0.056008</td>\n",
       "      <td>0.015098</td>\n",
       "      <td>-0.039098</td>\n",
       "    </tr>\n",
       "    <tr>\n",
       "      <th>AirTime</th>\n",
       "      <td>NaN</td>\n",
       "      <td>0.000893</td>\n",
       "      <td>0.014324</td>\n",
       "      <td>-0.065054</td>\n",
       "      <td>-0.069232</td>\n",
       "      <td>0.018445</td>\n",
       "      <td>0.030644</td>\n",
       "      <td>0.021619</td>\n",
       "      <td>0.992457</td>\n",
       "      <td>0.989002</td>\n",
       "      <td>...</td>\n",
       "      <td>-0.051250</td>\n",
       "      <td>0.004760</td>\n",
       "      <td>0.971304</td>\n",
       "      <td>0.126607</td>\n",
       "      <td>0.058028</td>\n",
       "      <td>0.031140</td>\n",
       "      <td>0.023489</td>\n",
       "      <td>0.118158</td>\n",
       "      <td>0.017114</td>\n",
       "      <td>-0.071480</td>\n",
       "    </tr>\n",
       "    <tr>\n",
       "      <th>ArrDelay</th>\n",
       "      <td>NaN</td>\n",
       "      <td>0.027501</td>\n",
       "      <td>0.085299</td>\n",
       "      <td>0.232415</td>\n",
       "      <td>0.180684</td>\n",
       "      <td>0.076353</td>\n",
       "      <td>0.142571</td>\n",
       "      <td>-0.001017</td>\n",
       "      <td>-0.013101</td>\n",
       "      <td>-0.088450</td>\n",
       "      <td>...</td>\n",
       "      <td>1.000000</td>\n",
       "      <td>0.942274</td>\n",
       "      <td>-0.081415</td>\n",
       "      <td>0.130874</td>\n",
       "      <td>0.277640</td>\n",
       "      <td>0.302390</td>\n",
       "      <td>0.267780</td>\n",
       "      <td>0.277161</td>\n",
       "      <td>-0.005642</td>\n",
       "      <td>0.756030</td>\n",
       "    </tr>\n",
       "    <tr>\n",
       "      <th>DepDelay</th>\n",
       "      <td>NaN</td>\n",
       "      <td>0.007231</td>\n",
       "      <td>0.098220</td>\n",
       "      <td>0.257259</td>\n",
       "      <td>0.202200</td>\n",
       "      <td>0.091164</td>\n",
       "      <td>0.171454</td>\n",
       "      <td>0.002810</td>\n",
       "      <td>0.020641</td>\n",
       "      <td>0.003833</td>\n",
       "      <td>...</td>\n",
       "      <td>0.942274</td>\n",
       "      <td>1.000000</td>\n",
       "      <td>0.009683</td>\n",
       "      <td>0.057272</td>\n",
       "      <td>0.119163</td>\n",
       "      <td>0.328748</td>\n",
       "      <td>0.233300</td>\n",
       "      <td>0.079642</td>\n",
       "      <td>-0.005033</td>\n",
       "      <td>0.790627</td>\n",
       "    </tr>\n",
       "    <tr>\n",
       "      <th>Distance</th>\n",
       "      <td>NaN</td>\n",
       "      <td>-0.006686</td>\n",
       "      <td>0.017525</td>\n",
       "      <td>-0.056849</td>\n",
       "      <td>-0.061167</td>\n",
       "      <td>0.024675</td>\n",
       "      <td>0.042641</td>\n",
       "      <td>0.017180</td>\n",
       "      <td>0.963610</td>\n",
       "      <td>0.979863</td>\n",
       "      <td>...</td>\n",
       "      <td>-0.081415</td>\n",
       "      <td>0.009683</td>\n",
       "      <td>1.000000</td>\n",
       "      <td>0.114718</td>\n",
       "      <td>0.057072</td>\n",
       "      <td>0.051182</td>\n",
       "      <td>0.007648</td>\n",
       "      <td>0.027524</td>\n",
       "      <td>0.015335</td>\n",
       "      <td>-0.025544</td>\n",
       "    </tr>\n",
       "    <tr>\n",
       "      <th>TaxiIn</th>\n",
       "      <td>NaN</td>\n",
       "      <td>-0.012618</td>\n",
       "      <td>0.034878</td>\n",
       "      <td>0.029098</td>\n",
       "      <td>0.024048</td>\n",
       "      <td>0.044000</td>\n",
       "      <td>0.042752</td>\n",
       "      <td>0.007277</td>\n",
       "      <td>0.183375</td>\n",
       "      <td>0.134687</td>\n",
       "      <td>...</td>\n",
       "      <td>0.130874</td>\n",
       "      <td>0.057272</td>\n",
       "      <td>0.114718</td>\n",
       "      <td>1.000000</td>\n",
       "      <td>0.050636</td>\n",
       "      <td>-0.023489</td>\n",
       "      <td>0.074326</td>\n",
       "      <td>0.255261</td>\n",
       "      <td>-0.003483</td>\n",
       "      <td>-0.037674</td>\n",
       "    </tr>\n",
       "    <tr>\n",
       "      <th>TaxiOut</th>\n",
       "      <td>NaN</td>\n",
       "      <td>0.040429</td>\n",
       "      <td>0.000337</td>\n",
       "      <td>-0.068401</td>\n",
       "      <td>-0.075218</td>\n",
       "      <td>-0.062210</td>\n",
       "      <td>-0.061937</td>\n",
       "      <td>0.023976</td>\n",
       "      <td>0.167747</td>\n",
       "      <td>0.070776</td>\n",
       "      <td>...</td>\n",
       "      <td>0.277640</td>\n",
       "      <td>0.119163</td>\n",
       "      <td>0.057072</td>\n",
       "      <td>0.050636</td>\n",
       "      <td>1.000000</td>\n",
       "      <td>-0.041822</td>\n",
       "      <td>0.064286</td>\n",
       "      <td>0.426727</td>\n",
       "      <td>-0.011322</td>\n",
       "      <td>-0.026671</td>\n",
       "    </tr>\n",
       "    <tr>\n",
       "      <th>CarrierDelay</th>\n",
       "      <td>NaN</td>\n",
       "      <td>-0.061650</td>\n",
       "      <td>0.031015</td>\n",
       "      <td>0.029925</td>\n",
       "      <td>-0.015536</td>\n",
       "      <td>-0.027949</td>\n",
       "      <td>-0.004882</td>\n",
       "      <td>-0.020801</td>\n",
       "      <td>0.021032</td>\n",
       "      <td>0.047632</td>\n",
       "      <td>...</td>\n",
       "      <td>0.302390</td>\n",
       "      <td>0.328748</td>\n",
       "      <td>0.051182</td>\n",
       "      <td>-0.023489</td>\n",
       "      <td>-0.041822</td>\n",
       "      <td>1.000000</td>\n",
       "      <td>-0.064598</td>\n",
       "      <td>-0.104465</td>\n",
       "      <td>-0.028104</td>\n",
       "      <td>-0.129563</td>\n",
       "    </tr>\n",
       "    <tr>\n",
       "      <th>WeatherDelay</th>\n",
       "      <td>NaN</td>\n",
       "      <td>0.055178</td>\n",
       "      <td>0.008769</td>\n",
       "      <td>-0.018628</td>\n",
       "      <td>-0.057462</td>\n",
       "      <td>-0.033068</td>\n",
       "      <td>-0.049083</td>\n",
       "      <td>0.004887</td>\n",
       "      <td>0.039746</td>\n",
       "      <td>0.016538</td>\n",
       "      <td>...</td>\n",
       "      <td>0.267780</td>\n",
       "      <td>0.233300</td>\n",
       "      <td>0.007648</td>\n",
       "      <td>0.074326</td>\n",
       "      <td>0.064286</td>\n",
       "      <td>-0.064598</td>\n",
       "      <td>1.000000</td>\n",
       "      <td>0.039809</td>\n",
       "      <td>-0.009468</td>\n",
       "      <td>-0.023564</td>\n",
       "    </tr>\n",
       "    <tr>\n",
       "      <th>NASDelay</th>\n",
       "      <td>NaN</td>\n",
       "      <td>0.111780</td>\n",
       "      <td>0.001660</td>\n",
       "      <td>-0.128269</td>\n",
       "      <td>-0.149643</td>\n",
       "      <td>-0.067516</td>\n",
       "      <td>-0.119460</td>\n",
       "      <td>0.002978</td>\n",
       "      <td>0.208190</td>\n",
       "      <td>0.056008</td>\n",
       "      <td>...</td>\n",
       "      <td>0.277161</td>\n",
       "      <td>0.079642</td>\n",
       "      <td>0.027524</td>\n",
       "      <td>0.255261</td>\n",
       "      <td>0.426727</td>\n",
       "      <td>-0.104465</td>\n",
       "      <td>0.039809</td>\n",
       "      <td>1.000000</td>\n",
       "      <td>-0.011626</td>\n",
       "      <td>-0.111834</td>\n",
       "    </tr>\n",
       "    <tr>\n",
       "      <th>SecurityDelay</th>\n",
       "      <td>NaN</td>\n",
       "      <td>-0.012357</td>\n",
       "      <td>0.024726</td>\n",
       "      <td>-0.022763</td>\n",
       "      <td>-0.025722</td>\n",
       "      <td>-0.005993</td>\n",
       "      <td>-0.016722</td>\n",
       "      <td>-0.007659</td>\n",
       "      <td>0.014323</td>\n",
       "      <td>0.015098</td>\n",
       "      <td>...</td>\n",
       "      <td>-0.005642</td>\n",
       "      <td>-0.005033</td>\n",
       "      <td>0.015335</td>\n",
       "      <td>-0.003483</td>\n",
       "      <td>-0.011322</td>\n",
       "      <td>-0.028104</td>\n",
       "      <td>-0.009468</td>\n",
       "      <td>-0.011626</td>\n",
       "      <td>1.000000</td>\n",
       "      <td>-0.025623</td>\n",
       "    </tr>\n",
       "    <tr>\n",
       "      <th>LateAircraftDelay</th>\n",
       "      <td>NaN</td>\n",
       "      <td>0.079725</td>\n",
       "      <td>0.079787</td>\n",
       "      <td>0.229938</td>\n",
       "      <td>0.227241</td>\n",
       "      <td>-0.050018</td>\n",
       "      <td>0.171666</td>\n",
       "      <td>-0.002957</td>\n",
       "      <td>-0.076740</td>\n",
       "      <td>-0.039098</td>\n",
       "      <td>...</td>\n",
       "      <td>0.756030</td>\n",
       "      <td>0.790627</td>\n",
       "      <td>-0.025544</td>\n",
       "      <td>-0.037674</td>\n",
       "      <td>-0.026671</td>\n",
       "      <td>-0.129563</td>\n",
       "      <td>-0.023564</td>\n",
       "      <td>-0.111834</td>\n",
       "      <td>-0.025623</td>\n",
       "      <td>1.000000</td>\n",
       "    </tr>\n",
       "  </tbody>\n",
       "</table>\n",
       "<p>21 rows × 21 columns</p>\n",
       "</div>"
      ],
      "text/plain": [
       "                   Month  DayofMonth  DayOfWeek   DepTime  CRSDepTime  \\\n",
       "Month                NaN         NaN        NaN       NaN         NaN   \n",
       "DayofMonth           NaN    1.000000  -0.118851 -0.001168    0.003749   \n",
       "DayOfWeek            NaN   -0.118851   1.000000  0.031111    0.024400   \n",
       "DepTime              NaN   -0.001168   0.031111  1.000000    0.985504   \n",
       "CRSDepTime           NaN    0.003749   0.024400  0.985504    1.000000   \n",
       "ArrTime              NaN   -0.004445   0.021947  0.796903    0.795609   \n",
       "CRSArrTime           NaN   -0.001941   0.027785  0.852191    0.862782   \n",
       "FlightNum            NaN    0.072588  -0.039560  0.023409    0.023789   \n",
       "ActualElapsedTime    NaN    0.004568   0.015945 -0.069542   -0.074644   \n",
       "CRSElapsedTime       NaN   -0.006886   0.017744 -0.065937   -0.070060   \n",
       "AirTime              NaN    0.000893   0.014324 -0.065054   -0.069232   \n",
       "ArrDelay             NaN    0.027501   0.085299  0.232415    0.180684   \n",
       "DepDelay             NaN    0.007231   0.098220  0.257259    0.202200   \n",
       "Distance             NaN   -0.006686   0.017525 -0.056849   -0.061167   \n",
       "TaxiIn               NaN   -0.012618   0.034878  0.029098    0.024048   \n",
       "TaxiOut              NaN    0.040429   0.000337 -0.068401   -0.075218   \n",
       "CarrierDelay         NaN   -0.061650   0.031015  0.029925   -0.015536   \n",
       "WeatherDelay         NaN    0.055178   0.008769 -0.018628   -0.057462   \n",
       "NASDelay             NaN    0.111780   0.001660 -0.128269   -0.149643   \n",
       "SecurityDelay        NaN   -0.012357   0.024726 -0.022763   -0.025722   \n",
       "LateAircraftDelay    NaN    0.079725   0.079787  0.229938    0.227241   \n",
       "\n",
       "                    ArrTime  CRSArrTime  FlightNum  ActualElapsedTime  \\\n",
       "Month                   NaN         NaN        NaN                NaN   \n",
       "DayofMonth        -0.004445   -0.001941   0.072588           0.004568   \n",
       "DayOfWeek          0.021947    0.027785  -0.039560           0.015945   \n",
       "DepTime            0.796903    0.852191   0.023409          -0.069542   \n",
       "CRSDepTime         0.795609    0.862782   0.023789          -0.074644   \n",
       "ArrTime            1.000000    0.887002   0.011193           0.013706   \n",
       "CRSArrTime         0.887002    1.000000   0.014385           0.025615   \n",
       "FlightNum          0.011193    0.014385   1.000000           0.024159   \n",
       "ActualElapsedTime  0.013706    0.025615   0.024159           1.000000   \n",
       "CRSElapsedTime     0.016936    0.032250   0.025279           0.983501   \n",
       "AirTime            0.018445    0.030644   0.021619           0.992457   \n",
       "ArrDelay           0.076353    0.142571  -0.001017          -0.013101   \n",
       "DepDelay           0.091164    0.171454   0.002810           0.020641   \n",
       "Distance           0.024675    0.042641   0.017180           0.963610   \n",
       "TaxiIn             0.044000    0.042752   0.007277           0.183375   \n",
       "TaxiOut           -0.062210   -0.061937   0.023976           0.167747   \n",
       "CarrierDelay      -0.027949   -0.004882  -0.020801           0.021032   \n",
       "WeatherDelay      -0.033068   -0.049083   0.004887           0.039746   \n",
       "NASDelay          -0.067516   -0.119460   0.002978           0.208190   \n",
       "SecurityDelay     -0.005993   -0.016722  -0.007659           0.014323   \n",
       "LateAircraftDelay -0.050018    0.171666  -0.002957          -0.076740   \n",
       "\n",
       "                   CRSElapsedTime  ...  ArrDelay  DepDelay  Distance  \\\n",
       "Month                         NaN  ...       NaN       NaN       NaN   \n",
       "DayofMonth              -0.006886  ...  0.027501  0.007231 -0.006686   \n",
       "DayOfWeek                0.017744  ...  0.085299  0.098220  0.017525   \n",
       "DepTime                 -0.065937  ...  0.232415  0.257259 -0.056849   \n",
       "CRSDepTime              -0.070060  ...  0.180684  0.202200 -0.061167   \n",
       "ArrTime                  0.016936  ...  0.076353  0.091164  0.024675   \n",
       "CRSArrTime               0.032250  ...  0.142571  0.171454  0.042641   \n",
       "FlightNum                0.025279  ... -0.001017  0.002810  0.017180   \n",
       "ActualElapsedTime        0.983501  ... -0.013101  0.020641  0.963610   \n",
       "CRSElapsedTime           1.000000  ... -0.088450  0.003833  0.979863   \n",
       "AirTime                  0.989002  ... -0.051250  0.004760  0.971304   \n",
       "ArrDelay                -0.088450  ...  1.000000  0.942274 -0.081415   \n",
       "DepDelay                 0.003833  ...  0.942274  1.000000  0.009683   \n",
       "Distance                 0.979863  ... -0.081415  0.009683  1.000000   \n",
       "TaxiIn                   0.134687  ...  0.130874  0.057272  0.114718   \n",
       "TaxiOut                  0.070776  ...  0.277640  0.119163  0.057072   \n",
       "CarrierDelay             0.047632  ...  0.302390  0.328748  0.051182   \n",
       "WeatherDelay             0.016538  ...  0.267780  0.233300  0.007648   \n",
       "NASDelay                 0.056008  ...  0.277161  0.079642  0.027524   \n",
       "SecurityDelay            0.015098  ... -0.005642 -0.005033  0.015335   \n",
       "LateAircraftDelay       -0.039098  ...  0.756030  0.790627 -0.025544   \n",
       "\n",
       "                     TaxiIn   TaxiOut  CarrierDelay  WeatherDelay  NASDelay  \\\n",
       "Month                   NaN       NaN           NaN           NaN       NaN   \n",
       "DayofMonth        -0.012618  0.040429     -0.061650      0.055178  0.111780   \n",
       "DayOfWeek          0.034878  0.000337      0.031015      0.008769  0.001660   \n",
       "DepTime            0.029098 -0.068401      0.029925     -0.018628 -0.128269   \n",
       "CRSDepTime         0.024048 -0.075218     -0.015536     -0.057462 -0.149643   \n",
       "ArrTime            0.044000 -0.062210     -0.027949     -0.033068 -0.067516   \n",
       "CRSArrTime         0.042752 -0.061937     -0.004882     -0.049083 -0.119460   \n",
       "FlightNum          0.007277  0.023976     -0.020801      0.004887  0.002978   \n",
       "ActualElapsedTime  0.183375  0.167747      0.021032      0.039746  0.208190   \n",
       "CRSElapsedTime     0.134687  0.070776      0.047632      0.016538  0.056008   \n",
       "AirTime            0.126607  0.058028      0.031140      0.023489  0.118158   \n",
       "ArrDelay           0.130874  0.277640      0.302390      0.267780  0.277161   \n",
       "DepDelay           0.057272  0.119163      0.328748      0.233300  0.079642   \n",
       "Distance           0.114718  0.057072      0.051182      0.007648  0.027524   \n",
       "TaxiIn             1.000000  0.050636     -0.023489      0.074326  0.255261   \n",
       "TaxiOut            0.050636  1.000000     -0.041822      0.064286  0.426727   \n",
       "CarrierDelay      -0.023489 -0.041822      1.000000     -0.064598 -0.104465   \n",
       "WeatherDelay       0.074326  0.064286     -0.064598      1.000000  0.039809   \n",
       "NASDelay           0.255261  0.426727     -0.104465      0.039809  1.000000   \n",
       "SecurityDelay     -0.003483 -0.011322     -0.028104     -0.009468 -0.011626   \n",
       "LateAircraftDelay -0.037674 -0.026671     -0.129563     -0.023564 -0.111834   \n",
       "\n",
       "                   SecurityDelay  LateAircraftDelay  \n",
       "Month                        NaN                NaN  \n",
       "DayofMonth             -0.012357           0.079725  \n",
       "DayOfWeek               0.024726           0.079787  \n",
       "DepTime                -0.022763           0.229938  \n",
       "CRSDepTime             -0.025722           0.227241  \n",
       "ArrTime                -0.005993          -0.050018  \n",
       "CRSArrTime             -0.016722           0.171666  \n",
       "FlightNum              -0.007659          -0.002957  \n",
       "ActualElapsedTime       0.014323          -0.076740  \n",
       "CRSElapsedTime          0.015098          -0.039098  \n",
       "AirTime                 0.017114          -0.071480  \n",
       "ArrDelay               -0.005642           0.756030  \n",
       "DepDelay               -0.005033           0.790627  \n",
       "Distance                0.015335          -0.025544  \n",
       "TaxiIn                 -0.003483          -0.037674  \n",
       "TaxiOut                -0.011322          -0.026671  \n",
       "CarrierDelay           -0.028104          -0.129563  \n",
       "WeatherDelay           -0.009468          -0.023564  \n",
       "NASDelay               -0.011626          -0.111834  \n",
       "SecurityDelay           1.000000          -0.025623  \n",
       "LateAircraftDelay      -0.025623           1.000000  \n",
       "\n",
       "[21 rows x 21 columns]"
      ]
     },
     "execution_count": 7,
     "metadata": {},
     "output_type": "execute_result"
    }
   ],
   "source": [
    "# Hemos suprimido todas las columnas que no tienen valores numéricos. Ahora vemos la matriz de correlación.\n",
    "df.corr()"
   ]
  },
  {
   "cell_type": "code",
   "execution_count": 10,
   "metadata": {},
   "outputs": [
    {
     "ename": "ImportError",
     "evalue": "background_gradient requires matplotlib.",
     "output_type": "error",
     "traceback": [
      "\u001b[0;31m---------------------------------------------------------------------------\u001b[0m",
      "\u001b[0;31mImportError\u001b[0m                               Traceback (most recent call last)",
      "File \u001b[0;32m~/opt/anaconda3/envs/IA/lib/python3.10/site-packages/IPython/core/formatters.py:343\u001b[0m, in \u001b[0;36mBaseFormatter.__call__\u001b[0;34m(self, obj)\u001b[0m\n\u001b[1;32m    341\u001b[0m     method \u001b[38;5;241m=\u001b[39m get_real_method(obj, \u001b[38;5;28mself\u001b[39m\u001b[38;5;241m.\u001b[39mprint_method)\n\u001b[1;32m    342\u001b[0m     \u001b[38;5;28;01mif\u001b[39;00m method \u001b[38;5;129;01mis\u001b[39;00m \u001b[38;5;129;01mnot\u001b[39;00m \u001b[38;5;28;01mNone\u001b[39;00m:\n\u001b[0;32m--> 343\u001b[0m         \u001b[38;5;28;01mreturn\u001b[39;00m \u001b[43mmethod\u001b[49m\u001b[43m(\u001b[49m\u001b[43m)\u001b[49m\n\u001b[1;32m    344\u001b[0m     \u001b[38;5;28;01mreturn\u001b[39;00m \u001b[38;5;28;01mNone\u001b[39;00m\n\u001b[1;32m    345\u001b[0m \u001b[38;5;28;01melse\u001b[39;00m:\n",
      "File \u001b[0;32m~/opt/anaconda3/envs/IA/lib/python3.10/site-packages/pandas/io/formats/style.py:272\u001b[0m, in \u001b[0;36mStyler._repr_html_\u001b[0;34m(self)\u001b[0m\n\u001b[1;32m    267\u001b[0m \u001b[38;5;124;03m\"\"\"\u001b[39;00m\n\u001b[1;32m    268\u001b[0m \u001b[38;5;124;03mHooks into Jupyter notebook rich display system, which calls _repr_html_ by\u001b[39;00m\n\u001b[1;32m    269\u001b[0m \u001b[38;5;124;03mdefault if an object is returned at the end of a cell.\u001b[39;00m\n\u001b[1;32m    270\u001b[0m \u001b[38;5;124;03m\"\"\"\u001b[39;00m\n\u001b[1;32m    271\u001b[0m \u001b[38;5;28;01mif\u001b[39;00m get_option(\u001b[38;5;124m\"\u001b[39m\u001b[38;5;124mstyler.render.repr\u001b[39m\u001b[38;5;124m\"\u001b[39m) \u001b[38;5;241m==\u001b[39m \u001b[38;5;124m\"\u001b[39m\u001b[38;5;124mhtml\u001b[39m\u001b[38;5;124m\"\u001b[39m:\n\u001b[0;32m--> 272\u001b[0m     \u001b[38;5;28;01mreturn\u001b[39;00m \u001b[38;5;28;43mself\u001b[39;49m\u001b[38;5;241;43m.\u001b[39;49m\u001b[43mto_html\u001b[49m\u001b[43m(\u001b[49m\u001b[43m)\u001b[49m\n\u001b[1;32m    273\u001b[0m \u001b[38;5;28;01mreturn\u001b[39;00m \u001b[38;5;28;01mNone\u001b[39;00m\n",
      "File \u001b[0;32m~/opt/anaconda3/envs/IA/lib/python3.10/site-packages/pandas/io/formats/style.py:1179\u001b[0m, in \u001b[0;36mStyler.to_html\u001b[0;34m(self, buf, table_uuid, table_attributes, sparse_index, sparse_columns, bold_headers, caption, max_rows, max_columns, encoding, doctype_html, exclude_styles, **kwargs)\u001b[0m\n\u001b[1;32m   1176\u001b[0m     obj\u001b[38;5;241m.\u001b[39mset_caption(caption)\n\u001b[1;32m   1178\u001b[0m \u001b[38;5;66;03m# Build HTML string..\u001b[39;00m\n\u001b[0;32m-> 1179\u001b[0m html \u001b[38;5;241m=\u001b[39m \u001b[43mobj\u001b[49m\u001b[38;5;241;43m.\u001b[39;49m\u001b[43m_render_html\u001b[49m\u001b[43m(\u001b[49m\n\u001b[1;32m   1180\u001b[0m \u001b[43m    \u001b[49m\u001b[43msparse_index\u001b[49m\u001b[38;5;241;43m=\u001b[39;49m\u001b[43msparse_index\u001b[49m\u001b[43m,\u001b[49m\n\u001b[1;32m   1181\u001b[0m \u001b[43m    \u001b[49m\u001b[43msparse_columns\u001b[49m\u001b[38;5;241;43m=\u001b[39;49m\u001b[43msparse_columns\u001b[49m\u001b[43m,\u001b[49m\n\u001b[1;32m   1182\u001b[0m \u001b[43m    \u001b[49m\u001b[43mmax_rows\u001b[49m\u001b[38;5;241;43m=\u001b[39;49m\u001b[43mmax_rows\u001b[49m\u001b[43m,\u001b[49m\n\u001b[1;32m   1183\u001b[0m \u001b[43m    \u001b[49m\u001b[43mmax_cols\u001b[49m\u001b[38;5;241;43m=\u001b[39;49m\u001b[43mmax_columns\u001b[49m\u001b[43m,\u001b[49m\n\u001b[1;32m   1184\u001b[0m \u001b[43m    \u001b[49m\u001b[43mexclude_styles\u001b[49m\u001b[38;5;241;43m=\u001b[39;49m\u001b[43mexclude_styles\u001b[49m\u001b[43m,\u001b[49m\n\u001b[1;32m   1185\u001b[0m \u001b[43m    \u001b[49m\u001b[43mencoding\u001b[49m\u001b[38;5;241;43m=\u001b[39;49m\u001b[43mencoding\u001b[49m\u001b[43m \u001b[49m\u001b[38;5;129;43;01mor\u001b[39;49;00m\u001b[43m \u001b[49m\u001b[43mget_option\u001b[49m\u001b[43m(\u001b[49m\u001b[38;5;124;43m\"\u001b[39;49m\u001b[38;5;124;43mstyler.render.encoding\u001b[39;49m\u001b[38;5;124;43m\"\u001b[39;49m\u001b[43m)\u001b[49m\u001b[43m,\u001b[49m\n\u001b[1;32m   1186\u001b[0m \u001b[43m    \u001b[49m\u001b[43mdoctype_html\u001b[49m\u001b[38;5;241;43m=\u001b[39;49m\u001b[43mdoctype_html\u001b[49m\u001b[43m,\u001b[49m\n\u001b[1;32m   1187\u001b[0m \u001b[43m    \u001b[49m\u001b[38;5;241;43m*\u001b[39;49m\u001b[38;5;241;43m*\u001b[39;49m\u001b[43mkwargs\u001b[49m\u001b[43m,\u001b[49m\n\u001b[1;32m   1188\u001b[0m \u001b[43m\u001b[49m\u001b[43m)\u001b[49m\n\u001b[1;32m   1190\u001b[0m \u001b[38;5;28;01mreturn\u001b[39;00m save_to_buffer(\n\u001b[1;32m   1191\u001b[0m     html, buf\u001b[38;5;241m=\u001b[39mbuf, encoding\u001b[38;5;241m=\u001b[39m(encoding \u001b[38;5;28;01mif\u001b[39;00m buf \u001b[38;5;129;01mis\u001b[39;00m \u001b[38;5;129;01mnot\u001b[39;00m \u001b[38;5;28;01mNone\u001b[39;00m \u001b[38;5;28;01melse\u001b[39;00m \u001b[38;5;28;01mNone\u001b[39;00m)\n\u001b[1;32m   1192\u001b[0m )\n",
      "File \u001b[0;32m~/opt/anaconda3/envs/IA/lib/python3.10/site-packages/pandas/io/formats/style_render.py:162\u001b[0m, in \u001b[0;36mStylerRenderer._render_html\u001b[0;34m(self, sparse_index, sparse_columns, max_rows, max_cols, **kwargs)\u001b[0m\n\u001b[1;32m    150\u001b[0m \u001b[38;5;28;01mdef\u001b[39;00m \u001b[38;5;21m_render_html\u001b[39m(\n\u001b[1;32m    151\u001b[0m     \u001b[38;5;28mself\u001b[39m,\n\u001b[1;32m    152\u001b[0m     sparse_index: \u001b[38;5;28mbool\u001b[39m,\n\u001b[0;32m   (...)\u001b[0m\n\u001b[1;32m    156\u001b[0m     \u001b[38;5;241m*\u001b[39m\u001b[38;5;241m*\u001b[39mkwargs,\n\u001b[1;32m    157\u001b[0m ) \u001b[38;5;241m-\u001b[39m\u001b[38;5;241m>\u001b[39m \u001b[38;5;28mstr\u001b[39m:\n\u001b[1;32m    158\u001b[0m     \u001b[38;5;124;03m\"\"\"\u001b[39;00m\n\u001b[1;32m    159\u001b[0m \u001b[38;5;124;03m    Renders the ``Styler`` including all applied styles to HTML.\u001b[39;00m\n\u001b[1;32m    160\u001b[0m \u001b[38;5;124;03m    Generates a dict with necessary kwargs passed to jinja2 template.\u001b[39;00m\n\u001b[1;32m    161\u001b[0m \u001b[38;5;124;03m    \"\"\"\u001b[39;00m\n\u001b[0;32m--> 162\u001b[0m     \u001b[38;5;28;43mself\u001b[39;49m\u001b[38;5;241;43m.\u001b[39;49m\u001b[43m_compute\u001b[49m\u001b[43m(\u001b[49m\u001b[43m)\u001b[49m\n\u001b[1;32m    163\u001b[0m     \u001b[38;5;66;03m# TODO: namespace all the pandas keys\u001b[39;00m\n\u001b[1;32m    164\u001b[0m     d \u001b[38;5;241m=\u001b[39m \u001b[38;5;28mself\u001b[39m\u001b[38;5;241m.\u001b[39m_translate(sparse_index, sparse_columns, max_rows, max_cols)\n",
      "File \u001b[0;32m~/opt/anaconda3/envs/IA/lib/python3.10/site-packages/pandas/io/formats/style_render.py:205\u001b[0m, in \u001b[0;36mStylerRenderer._compute\u001b[0;34m(self)\u001b[0m\n\u001b[1;32m    203\u001b[0m r \u001b[38;5;241m=\u001b[39m \u001b[38;5;28mself\u001b[39m\n\u001b[1;32m    204\u001b[0m \u001b[38;5;28;01mfor\u001b[39;00m func, args, kwargs \u001b[38;5;129;01min\u001b[39;00m \u001b[38;5;28mself\u001b[39m\u001b[38;5;241m.\u001b[39m_todo:\n\u001b[0;32m--> 205\u001b[0m     r \u001b[38;5;241m=\u001b[39m \u001b[43mfunc\u001b[49m\u001b[43m(\u001b[49m\u001b[38;5;28;43mself\u001b[39;49m\u001b[43m)\u001b[49m\u001b[43m(\u001b[49m\u001b[38;5;241;43m*\u001b[39;49m\u001b[43margs\u001b[49m\u001b[43m,\u001b[49m\u001b[43m \u001b[49m\u001b[38;5;241;43m*\u001b[39;49m\u001b[38;5;241;43m*\u001b[39;49m\u001b[43mkwargs\u001b[49m\u001b[43m)\u001b[49m\n\u001b[1;32m    206\u001b[0m \u001b[38;5;28;01mreturn\u001b[39;00m r\n",
      "File \u001b[0;32m~/opt/anaconda3/envs/IA/lib/python3.10/site-packages/pandas/io/formats/style.py:1442\u001b[0m, in \u001b[0;36mStyler._apply\u001b[0;34m(self, func, axis, subset, **kwargs)\u001b[0m\n\u001b[1;32m   1440\u001b[0m axis \u001b[38;5;241m=\u001b[39m \u001b[38;5;28mself\u001b[39m\u001b[38;5;241m.\u001b[39mdata\u001b[38;5;241m.\u001b[39m_get_axis_number(axis)\n\u001b[1;32m   1441\u001b[0m \u001b[38;5;28;01mif\u001b[39;00m axis \u001b[38;5;241m==\u001b[39m \u001b[38;5;241m0\u001b[39m:\n\u001b[0;32m-> 1442\u001b[0m     result \u001b[38;5;241m=\u001b[39m \u001b[43mdata\u001b[49m\u001b[38;5;241;43m.\u001b[39;49m\u001b[43mapply\u001b[49m\u001b[43m(\u001b[49m\u001b[43mfunc\u001b[49m\u001b[43m,\u001b[49m\u001b[43m \u001b[49m\u001b[43maxis\u001b[49m\u001b[38;5;241;43m=\u001b[39;49m\u001b[38;5;241;43m0\u001b[39;49m\u001b[43m,\u001b[49m\u001b[43m \u001b[49m\u001b[38;5;241;43m*\u001b[39;49m\u001b[38;5;241;43m*\u001b[39;49m\u001b[43mkwargs\u001b[49m\u001b[43m)\u001b[49m\n\u001b[1;32m   1443\u001b[0m \u001b[38;5;28;01melse\u001b[39;00m:\n\u001b[1;32m   1444\u001b[0m     result \u001b[38;5;241m=\u001b[39m data\u001b[38;5;241m.\u001b[39mT\u001b[38;5;241m.\u001b[39mapply(func, axis\u001b[38;5;241m=\u001b[39m\u001b[38;5;241m0\u001b[39m, \u001b[38;5;241m*\u001b[39m\u001b[38;5;241m*\u001b[39mkwargs)\u001b[38;5;241m.\u001b[39mT  \u001b[38;5;66;03m# see GH 42005\u001b[39;00m\n",
      "File \u001b[0;32m~/opt/anaconda3/envs/IA/lib/python3.10/site-packages/pandas/core/frame.py:8848\u001b[0m, in \u001b[0;36mDataFrame.apply\u001b[0;34m(self, func, axis, raw, result_type, args, **kwargs)\u001b[0m\n\u001b[1;32m   8837\u001b[0m \u001b[38;5;28;01mfrom\u001b[39;00m \u001b[38;5;21;01mpandas\u001b[39;00m\u001b[38;5;21;01m.\u001b[39;00m\u001b[38;5;21;01mcore\u001b[39;00m\u001b[38;5;21;01m.\u001b[39;00m\u001b[38;5;21;01mapply\u001b[39;00m \u001b[38;5;28;01mimport\u001b[39;00m frame_apply\n\u001b[1;32m   8839\u001b[0m op \u001b[38;5;241m=\u001b[39m frame_apply(\n\u001b[1;32m   8840\u001b[0m     \u001b[38;5;28mself\u001b[39m,\n\u001b[1;32m   8841\u001b[0m     func\u001b[38;5;241m=\u001b[39mfunc,\n\u001b[0;32m   (...)\u001b[0m\n\u001b[1;32m   8846\u001b[0m     kwargs\u001b[38;5;241m=\u001b[39mkwargs,\n\u001b[1;32m   8847\u001b[0m )\n\u001b[0;32m-> 8848\u001b[0m \u001b[38;5;28;01mreturn\u001b[39;00m \u001b[43mop\u001b[49m\u001b[38;5;241;43m.\u001b[39;49m\u001b[43mapply\u001b[49m\u001b[43m(\u001b[49m\u001b[43m)\u001b[49m\u001b[38;5;241m.\u001b[39m__finalize__(\u001b[38;5;28mself\u001b[39m, method\u001b[38;5;241m=\u001b[39m\u001b[38;5;124m\"\u001b[39m\u001b[38;5;124mapply\u001b[39m\u001b[38;5;124m\"\u001b[39m)\n",
      "File \u001b[0;32m~/opt/anaconda3/envs/IA/lib/python3.10/site-packages/pandas/core/apply.py:733\u001b[0m, in \u001b[0;36mFrameApply.apply\u001b[0;34m(self)\u001b[0m\n\u001b[1;32m    730\u001b[0m \u001b[38;5;28;01melif\u001b[39;00m \u001b[38;5;28mself\u001b[39m\u001b[38;5;241m.\u001b[39mraw:\n\u001b[1;32m    731\u001b[0m     \u001b[38;5;28;01mreturn\u001b[39;00m \u001b[38;5;28mself\u001b[39m\u001b[38;5;241m.\u001b[39mapply_raw()\n\u001b[0;32m--> 733\u001b[0m \u001b[38;5;28;01mreturn\u001b[39;00m \u001b[38;5;28;43mself\u001b[39;49m\u001b[38;5;241;43m.\u001b[39;49m\u001b[43mapply_standard\u001b[49m\u001b[43m(\u001b[49m\u001b[43m)\u001b[49m\n",
      "File \u001b[0;32m~/opt/anaconda3/envs/IA/lib/python3.10/site-packages/pandas/core/apply.py:857\u001b[0m, in \u001b[0;36mFrameApply.apply_standard\u001b[0;34m(self)\u001b[0m\n\u001b[1;32m    856\u001b[0m \u001b[38;5;28;01mdef\u001b[39;00m \u001b[38;5;21mapply_standard\u001b[39m(\u001b[38;5;28mself\u001b[39m):\n\u001b[0;32m--> 857\u001b[0m     results, res_index \u001b[38;5;241m=\u001b[39m \u001b[38;5;28;43mself\u001b[39;49m\u001b[38;5;241;43m.\u001b[39;49m\u001b[43mapply_series_generator\u001b[49m\u001b[43m(\u001b[49m\u001b[43m)\u001b[49m\n\u001b[1;32m    859\u001b[0m     \u001b[38;5;66;03m# wrap results\u001b[39;00m\n\u001b[1;32m    860\u001b[0m     \u001b[38;5;28;01mreturn\u001b[39;00m \u001b[38;5;28mself\u001b[39m\u001b[38;5;241m.\u001b[39mwrap_results(results, res_index)\n",
      "File \u001b[0;32m~/opt/anaconda3/envs/IA/lib/python3.10/site-packages/pandas/core/apply.py:873\u001b[0m, in \u001b[0;36mFrameApply.apply_series_generator\u001b[0;34m(self)\u001b[0m\n\u001b[1;32m    870\u001b[0m \u001b[38;5;28;01mwith\u001b[39;00m option_context(\u001b[38;5;124m\"\u001b[39m\u001b[38;5;124mmode.chained_assignment\u001b[39m\u001b[38;5;124m\"\u001b[39m, \u001b[38;5;28;01mNone\u001b[39;00m):\n\u001b[1;32m    871\u001b[0m     \u001b[38;5;28;01mfor\u001b[39;00m i, v \u001b[38;5;129;01min\u001b[39;00m \u001b[38;5;28menumerate\u001b[39m(series_gen):\n\u001b[1;32m    872\u001b[0m         \u001b[38;5;66;03m# ignore SettingWithCopy here in case the user mutates\u001b[39;00m\n\u001b[0;32m--> 873\u001b[0m         results[i] \u001b[38;5;241m=\u001b[39m \u001b[38;5;28;43mself\u001b[39;49m\u001b[38;5;241;43m.\u001b[39;49m\u001b[43mf\u001b[49m\u001b[43m(\u001b[49m\u001b[43mv\u001b[49m\u001b[43m)\u001b[49m\n\u001b[1;32m    874\u001b[0m         \u001b[38;5;28;01mif\u001b[39;00m \u001b[38;5;28misinstance\u001b[39m(results[i], ABCSeries):\n\u001b[1;32m    875\u001b[0m             \u001b[38;5;66;03m# If we have a view on v, we need to make a copy because\u001b[39;00m\n\u001b[1;32m    876\u001b[0m             \u001b[38;5;66;03m#  series_generator will swap out the underlying data\u001b[39;00m\n\u001b[1;32m    877\u001b[0m             results[i] \u001b[38;5;241m=\u001b[39m results[i]\u001b[38;5;241m.\u001b[39mcopy(deep\u001b[38;5;241m=\u001b[39m\u001b[38;5;28;01mFalse\u001b[39;00m)\n",
      "File \u001b[0;32m~/opt/anaconda3/envs/IA/lib/python3.10/site-packages/pandas/core/apply.py:138\u001b[0m, in \u001b[0;36mApply.__init__.<locals>.f\u001b[0;34m(x)\u001b[0m\n\u001b[1;32m    137\u001b[0m \u001b[38;5;28;01mdef\u001b[39;00m \u001b[38;5;21mf\u001b[39m(x):\n\u001b[0;32m--> 138\u001b[0m     \u001b[38;5;28;01mreturn\u001b[39;00m \u001b[43mfunc\u001b[49m\u001b[43m(\u001b[49m\u001b[43mx\u001b[49m\u001b[43m,\u001b[49m\u001b[43m \u001b[49m\u001b[38;5;241;43m*\u001b[39;49m\u001b[43margs\u001b[49m\u001b[43m,\u001b[49m\u001b[43m \u001b[49m\u001b[38;5;241;43m*\u001b[39;49m\u001b[38;5;241;43m*\u001b[39;49m\u001b[43mkwargs\u001b[49m\u001b[43m)\u001b[49m\n",
      "File \u001b[0;32m~/opt/anaconda3/envs/IA/lib/python3.10/site-packages/pandas/io/formats/style.py:3554\u001b[0m, in \u001b[0;36m_background_gradient\u001b[0;34m(data, cmap, low, high, text_color_threshold, vmin, vmax, gmap, text_only)\u001b[0m\n\u001b[1;32m   3551\u001b[0m \u001b[38;5;28;01melse\u001b[39;00m:  \u001b[38;5;66;03m# else validate gmap against the underlying data\u001b[39;00m\n\u001b[1;32m   3552\u001b[0m     gmap \u001b[38;5;241m=\u001b[39m _validate_apply_axis_arg(gmap, \u001b[38;5;124m\"\u001b[39m\u001b[38;5;124mgmap\u001b[39m\u001b[38;5;124m\"\u001b[39m, \u001b[38;5;28mfloat\u001b[39m, data)\n\u001b[0;32m-> 3554\u001b[0m \u001b[38;5;28;01mwith\u001b[39;00m _mpl(Styler\u001b[38;5;241m.\u001b[39mbackground_gradient) \u001b[38;5;28;01mas\u001b[39;00m (plt, mpl):\n\u001b[1;32m   3555\u001b[0m     smin \u001b[38;5;241m=\u001b[39m np\u001b[38;5;241m.\u001b[39mnanmin(gmap) \u001b[38;5;28;01mif\u001b[39;00m vmin \u001b[38;5;129;01mis\u001b[39;00m \u001b[38;5;28;01mNone\u001b[39;00m \u001b[38;5;28;01melse\u001b[39;00m vmin\n\u001b[1;32m   3556\u001b[0m     smax \u001b[38;5;241m=\u001b[39m np\u001b[38;5;241m.\u001b[39mnanmax(gmap) \u001b[38;5;28;01mif\u001b[39;00m vmax \u001b[38;5;129;01mis\u001b[39;00m \u001b[38;5;28;01mNone\u001b[39;00m \u001b[38;5;28;01melse\u001b[39;00m vmax\n",
      "File \u001b[0;32m~/opt/anaconda3/envs/IA/lib/python3.10/contextlib.py:135\u001b[0m, in \u001b[0;36m_GeneratorContextManager.__enter__\u001b[0;34m(self)\u001b[0m\n\u001b[1;32m    133\u001b[0m \u001b[38;5;28;01mdel\u001b[39;00m \u001b[38;5;28mself\u001b[39m\u001b[38;5;241m.\u001b[39margs, \u001b[38;5;28mself\u001b[39m\u001b[38;5;241m.\u001b[39mkwds, \u001b[38;5;28mself\u001b[39m\u001b[38;5;241m.\u001b[39mfunc\n\u001b[1;32m    134\u001b[0m \u001b[38;5;28;01mtry\u001b[39;00m:\n\u001b[0;32m--> 135\u001b[0m     \u001b[38;5;28;01mreturn\u001b[39;00m \u001b[38;5;28;43mnext\u001b[39;49m\u001b[43m(\u001b[49m\u001b[38;5;28;43mself\u001b[39;49m\u001b[38;5;241;43m.\u001b[39;49m\u001b[43mgen\u001b[49m\u001b[43m)\u001b[49m\n\u001b[1;32m    136\u001b[0m \u001b[38;5;28;01mexcept\u001b[39;00m \u001b[38;5;167;01mStopIteration\u001b[39;00m:\n\u001b[1;32m    137\u001b[0m     \u001b[38;5;28;01mraise\u001b[39;00m \u001b[38;5;167;01mRuntimeError\u001b[39;00m(\u001b[38;5;124m\"\u001b[39m\u001b[38;5;124mgenerator didn\u001b[39m\u001b[38;5;124m'\u001b[39m\u001b[38;5;124mt yield\u001b[39m\u001b[38;5;124m\"\u001b[39m) \u001b[38;5;28;01mfrom\u001b[39;00m \u001b[38;5;28mNone\u001b[39m\n",
      "File \u001b[0;32m~/opt/anaconda3/envs/IA/lib/python3.10/site-packages/pandas/io/formats/style.py:82\u001b[0m, in \u001b[0;36m_mpl\u001b[0;34m(func)\u001b[0m\n\u001b[1;32m     80\u001b[0m     \u001b[38;5;28;01myield\u001b[39;00m plt, mpl\n\u001b[1;32m     81\u001b[0m \u001b[38;5;28;01melse\u001b[39;00m:\n\u001b[0;32m---> 82\u001b[0m     \u001b[38;5;28;01mraise\u001b[39;00m \u001b[38;5;167;01mImportError\u001b[39;00m(no_mpl_message\u001b[38;5;241m.\u001b[39mformat(func\u001b[38;5;241m.\u001b[39m\u001b[38;5;18m__name__\u001b[39m))\n",
      "\u001b[0;31mImportError\u001b[0m: background_gradient requires matplotlib."
     ]
    },
    {
     "data": {
      "text/plain": [
       "<pandas.io.formats.style.Styler at 0x7f846e1ac580>"
      ]
     },
     "execution_count": 10,
     "metadata": {},
     "output_type": "execute_result"
    }
   ],
   "source": [
    "# Podemos estudiar una a una las correlaciones entre filas y columnas. \n",
    "# Para visualizar gráficamente la matriz, redondeando a tres decimales (round) y aplicamos estilo bakcground que mostrará\n",
    "# un degradado según la intensidad de la correlación.\n",
    "# Esto nos permite hacer una inspección de nuestra BD, analizando correlaciones que en principio no habíamos considerado.\n",
    "\n",
    "# df.drop(inplace = True, columns = [\"Month\"])\n",
    "corr = round (df.corr(), 3)\n",
    "corr.style.background_gradient()\n",
    "\n",
    "# Todo esto nos permite hacer un análisis inicial de corelaciones entre variables de nuestra base de datos."
   ]
  },
  {
   "cell_type": "code",
   "execution_count": null,
   "metadata": {},
   "outputs": [],
   "source": []
  }
 ],
 "metadata": {
  "kernelspec": {
   "display_name": "Python 3 (ipykernel)",
   "language": "python",
   "name": "python3"
  },
  "language_info": {
   "codemirror_mode": {
    "name": "ipython",
    "version": 3
   },
   "file_extension": ".py",
   "mimetype": "text/x-python",
   "name": "python",
   "nbconvert_exporter": "python",
   "pygments_lexer": "ipython3",
   "version": "3.10.4"
  }
 },
 "nbformat": 4,
 "nbformat_minor": 2
}
